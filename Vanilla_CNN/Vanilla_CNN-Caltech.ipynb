{
 "cells": [
  {
   "cell_type": "code",
   "execution_count": null,
   "metadata": {
    "ExecuteTime": {
     "end_time": "2020-09-03T09:13:05.235429Z",
     "start_time": "2020-09-03T09:13:05.228446Z"
    }
   },
   "outputs": [],
   "source": [
    "import numpy as np\n",
    "import pandas as pd\n",
    "import matplotlib.pyplot as plt\n",
    "import seaborn as sns\n",
    "%matplotlib inline\n",
    "from glob import glob\n",
    "import os\n",
    "import torch\n",
    "from torch.autograd import Variable\n",
    "import torch.nn as nn\n",
    "import torch.nn.functional as F\n",
    "import torch.optim as optim\n",
    "from torchvision import transforms\n",
    "from torchvision.datasets import ImageFolder"
   ]
  },
  {
   "cell_type": "code",
   "execution_count": null,
   "metadata": {
    "ExecuteTime": {
     "end_time": "2020-09-03T09:13:05.643335Z",
     "start_time": "2020-09-03T09:13:05.638349Z"
    }
   },
   "outputs": [],
   "source": [
    "is_cuda = False\n",
    "if torch.cuda.is_available():\n",
    "    is_cuda = True"
   ]
  },
  {
   "cell_type": "markdown",
   "metadata": {},
   "source": [
    "# Load data"
   ]
  },
  {
   "cell_type": "code",
   "execution_count": null,
   "metadata": {
    "ExecuteTime": {
     "end_time": "2020-09-03T09:10:30.409967Z",
     "start_time": "2020-09-03T09:10:30.405976Z"
    }
   },
   "outputs": [],
   "source": [
    "path = 'C:/Users/Yeonkang/Desktop/Deep_Learning/Image_Recognition/Vanilla_CNN/Python/data/101_ObjectCategories/dataset'"
   ]
  },
  {
   "cell_type": "markdown",
   "metadata": {},
   "source": [
    "- Dataset can be downloaded [here](https://www.kaggle.com/c/dogs-vs-cats/data)."
   ]
  },
  {
   "cell_type": "code",
   "execution_count": null,
   "metadata": {
    "ExecuteTime": {
     "end_time": "2020-09-03T08:55:53.229977Z",
     "start_time": "2020-09-03T08:55:53.179080Z"
    }
   },
   "outputs": [],
   "source": [
    "files = glob(os.path.join(path, '*/*.jpg'))\n",
    "print(f'Total no of images {len(files)}')"
   ]
  },
  {
   "cell_type": "code",
   "execution_count": null,
   "metadata": {
    "ExecuteTime": {
     "end_time": "2020-09-03T08:56:05.596493Z",
     "start_time": "2020-09-03T08:56:05.592504Z"
    }
   },
   "outputs": [],
   "source": [
    "no_of_images = 8677"
   ]
  },
  {
   "cell_type": "markdown",
   "metadata": {},
   "source": [
    "## Determine size"
   ]
  },
  {
   "cell_type": "code",
   "execution_count": null,
   "metadata": {
    "ExecuteTime": {
     "end_time": "2020-08-26T11:07:25.066938Z",
     "start_time": "2020-08-26T11:07:24.665783Z"
    }
   },
   "outputs": [],
   "source": [
    "null_transform = transforms.Compose([transforms.ToTensor()])\n",
    "data = ImageFolder(path, null_transform)"
   ]
  },
  {
   "cell_type": "code",
   "execution_count": null,
   "metadata": {},
   "outputs": [],
   "source": [
    "data[2100][0]"
   ]
  },
  {
   "cell_type": "code",
   "execution_count": null,
   "metadata": {
    "ExecuteTime": {
     "end_time": "2020-08-26T09:45:47.793895Z",
     "start_time": "2020-08-26T09:45:15.883288Z"
    }
   },
   "outputs": [],
   "source": [
    "height,width = [],[]\n",
    "\n",
    "for i in range(len(data)):\n",
    "    temp1 = data[i][0].shape[1]\n",
    "    temp2 = data[i][0].shape[2]\n",
    "    height.append(temp1)\n",
    "    width.append(temp2)"
   ]
  },
  {
   "cell_type": "code",
   "execution_count": null,
   "metadata": {
    "ExecuteTime": {
     "end_time": "2020-08-26T09:45:47.970423Z",
     "start_time": "2020-08-26T09:45:47.794892Z"
    }
   },
   "outputs": [],
   "source": [
    "plt.hist(height)"
   ]
  },
  {
   "cell_type": "code",
   "execution_count": null,
   "metadata": {
    "ExecuteTime": {
     "end_time": "2020-08-26T09:45:48.092125Z",
     "start_time": "2020-08-26T09:45:47.972418Z"
    }
   },
   "outputs": [],
   "source": [
    "plt.hist(width)"
   ]
  },
  {
   "cell_type": "code",
   "execution_count": null,
   "metadata": {
    "ExecuteTime": {
     "end_time": "2020-08-26T09:45:48.096120Z",
     "start_time": "2020-08-26T09:45:48.093095Z"
    }
   },
   "outputs": [],
   "source": [
    "def imshow(inp):\n",
    "    inp = inp.numpy().transpose((1,2,0))\n",
    "    inp = np.clip(inp,0,1)\n",
    "    plt.imshow(inp)"
   ]
  },
  {
   "cell_type": "code",
   "execution_count": null,
   "metadata": {
    "ExecuteTime": {
     "end_time": "2020-08-26T09:45:48.278641Z",
     "start_time": "2020-08-26T09:45:48.097114Z"
    }
   },
   "outputs": [],
   "source": [
    "imshow(data[2100][0]) #Image before resizing"
   ]
  },
  {
   "cell_type": "code",
   "execution_count": null,
   "metadata": {
    "ExecuteTime": {
     "end_time": "2020-08-26T09:45:48.617706Z",
     "start_time": "2020-08-26T09:45:48.280595Z"
    }
   },
   "outputs": [],
   "source": [
    "transform224 = transforms.Compose([transforms.Resize((224,224)), transforms.ToTensor()])\n",
    "data = ImageFolder(path, transform224)\n",
    "imshow(data[2100][0])"
   ]
  },
  {
   "cell_type": "code",
   "execution_count": null,
   "metadata": {
    "ExecuteTime": {
     "end_time": "2020-08-26T09:45:48.939845Z",
     "start_time": "2020-08-26T09:45:48.619700Z"
    }
   },
   "outputs": [],
   "source": [
    "transform448 = transforms.Compose([transforms.Resize((448,448)), transforms.ToTensor()])\n",
    "data = ImageFolder(path, transform448)\n",
    "imshow(data[2100][0])"
   ]
  },
  {
   "cell_type": "markdown",
   "metadata": {},
   "source": [
    "## Compute mean and standard deviation of each RGB channel"
   ]
  },
  {
   "cell_type": "code",
   "execution_count": null,
   "metadata": {
    "ExecuteTime": {
     "end_time": "2020-08-26T09:53:04.567727Z",
     "start_time": "2020-08-26T09:51:43.098396Z"
    }
   },
   "outputs": [],
   "source": [
    "red,green,blue = [],[],[]\n",
    "\n",
    "for i in range(len(data)):\n",
    "    temp0 = data[i][0][0].numpy()\n",
    "    temp1 = data[i][0][1].numpy()\n",
    "    temp2 = data[i][0][2].numpy()\n",
    "    red.append(temp0)\n",
    "    green.append(temp1)\n",
    "    blue.append(temp2)"
   ]
  },
  {
   "cell_type": "code",
   "execution_count": null,
   "metadata": {
    "ExecuteTime": {
     "end_time": "2020-08-26T09:53:29.349775Z",
     "start_time": "2020-08-26T09:53:20.210211Z"
    }
   },
   "outputs": [],
   "source": [
    "red,green,blue = np.array(red)[0].flatten(),np.array(green)[0].flatten(),np.array(blue)[0].flatten()"
   ]
  },
  {
   "cell_type": "code",
   "execution_count": null,
   "metadata": {
    "ExecuteTime": {
     "end_time": "2020-08-26T09:53:30.943510Z",
     "start_time": "2020-08-26T09:53:30.900624Z"
    }
   },
   "outputs": [],
   "source": [
    "r_mean,r_sd = red.mean(),np.sqrt(red.var())\n",
    "g_mean,g_sd = green.mean(),np.sqrt(green.var())\n",
    "b_mean,b_sd = blue.mean(),np.sqrt(blue.var())"
   ]
  },
  {
   "cell_type": "markdown",
   "metadata": {},
   "source": [
    "## Split into train and validation data"
   ]
  },
  {
   "cell_type": "code",
   "execution_count": null,
   "metadata": {
    "ExecuteTime": {
     "end_time": "2020-09-03T08:52:52.314175Z",
     "start_time": "2020-09-03T08:52:52.309188Z"
    }
   },
   "outputs": [],
   "source": [
    "np.random.seed(0)\n",
    "shuffle = np.random.permutation(no_of_images)"
   ]
  },
  {
   "cell_type": "code",
   "execution_count": null,
   "metadata": {
    "ExecuteTime": {
     "end_time": "2020-09-03T08:52:52.322153Z",
     "start_time": "2020-09-03T08:52:52.316170Z"
    }
   },
   "outputs": [],
   "source": [
    "def get_folder(data):\n",
    "    return data.split('/')[10].split('\\\\')[1] + '/'"
   ]
  },
  {
   "cell_type": "code",
   "execution_count": null,
   "metadata": {
    "ExecuteTime": {
     "end_time": "2020-09-03T08:52:52.341132Z",
     "start_time": "2020-09-03T08:52:52.325145Z"
    }
   },
   "outputs": [],
   "source": [
    "lst_folder = list(map(get_folder, files))"
   ]
  },
  {
   "cell_type": "code",
   "execution_count": null,
   "metadata": {
    "ExecuteTime": {
     "end_time": "2020-09-03T08:52:52.349083Z",
     "start_time": "2020-09-03T08:52:52.343125Z"
    }
   },
   "outputs": [],
   "source": [
    "lst_folder = list(set(lst_folder))\n",
    "len(lst_folder)"
   ]
  },
  {
   "cell_type": "markdown",
   "metadata": {},
   "source": [
    "- 101 categories"
   ]
  },
  {
   "cell_type": "code",
   "execution_count": null,
   "metadata": {
    "ExecuteTime": {
     "end_time": "2020-09-03T09:10:35.422574Z",
     "start_time": "2020-09-03T09:10:35.418585Z"
    }
   },
   "outputs": [],
   "source": [
    "path = 'C:/Users/Yeonkang/Desktop/Deep_Learning/Image_Recognition/Vanilla_CNN/Python/data/101_ObjectCategories'"
   ]
  },
  {
   "cell_type": "code",
   "execution_count": null,
   "metadata": {
    "ExecuteTime": {
     "end_time": "2020-09-03T08:52:52.438879Z",
     "start_time": "2020-09-03T08:52:52.357060Z"
    }
   },
   "outputs": [],
   "source": [
    "os.mkdir(os.path.join(path,'train'))\n",
    "os.mkdir(os.path.join(path,'valid'))\n",
    "\n",
    "for t in ['train','valid']:\n",
    "    for folder in lst_folder:\n",
    "        os.mkdir(os.path.join(path,t,folder))"
   ]
  },
  {
   "cell_type": "code",
   "execution_count": null,
   "metadata": {
    "ExecuteTime": {
     "end_time": "2020-09-03T08:52:52.927538Z",
     "start_time": "2020-09-03T08:52:52.439837Z"
    }
   },
   "outputs": [],
   "source": [
    "for i in shuffle[:677]:\n",
    "    folder = files[i].split('/')[10].split('\\\\')[1]\n",
    "    image = files[i].split('/')[10].split('\\\\')[2]\n",
    "    os.rename(files[i], os.path.join(path,'valid',folder,image))"
   ]
  },
  {
   "cell_type": "code",
   "execution_count": null,
   "metadata": {
    "ExecuteTime": {
     "end_time": "2020-09-03T08:52:58.957407Z",
     "start_time": "2020-09-03T08:52:52.983386Z"
    }
   },
   "outputs": [],
   "source": [
    "for i in shuffle[677:]:\n",
    "    folder = files[i].split('/')[10].split('\\\\')[1]\n",
    "    image = files[i].split('/')[10].split('\\\\')[2]\n",
    "    os.rename(files[i], os.path.join(path,'train',folder,image))"
   ]
  },
  {
   "cell_type": "code",
   "execution_count": null,
   "metadata": {
    "ExecuteTime": {
     "end_time": "2020-09-03T09:10:39.036698Z",
     "start_time": "2020-09-03T09:10:38.990822Z"
    }
   },
   "outputs": [],
   "source": [
    "simple_transform = transforms.Compose([transforms.Resize((224,224)), transforms.ToTensor(), \n",
    "                                       transforms.Normalize([0.576,0.537,0.500],[0.224,0.196,0.188])])\n",
    "train = ImageFolder(os.path.join(path,'train'), simple_transform)\n",
    "valid = ImageFolder(os.path.join(path,'valid'), simple_transform)"
   ]
  },
  {
   "cell_type": "code",
   "execution_count": null,
   "metadata": {
    "ExecuteTime": {
     "end_time": "2020-09-03T09:10:39.771733Z",
     "start_time": "2020-09-03T09:10:39.764753Z"
    }
   },
   "outputs": [],
   "source": [
    "train.class_to_idx"
   ]
  },
  {
   "cell_type": "code",
   "execution_count": null,
   "metadata": {
    "ExecuteTime": {
     "end_time": "2020-09-03T09:10:40.296880Z",
     "start_time": "2020-09-03T09:10:40.292338Z"
    }
   },
   "outputs": [],
   "source": [
    "def imshow(inp):\n",
    "    inp = inp.numpy().transpose((1,2,0))\n",
    "    mean,std = np.array([0.576,0.537,0.500]),np.array([0.224,0.196,0.188])\n",
    "    inp = std * inp + mean\n",
    "    inp = np.clip(inp,0,1)\n",
    "    plt.imshow(inp)"
   ]
  },
  {
   "cell_type": "code",
   "execution_count": null,
   "metadata": {
    "ExecuteTime": {
     "end_time": "2020-09-03T09:10:42.079724Z",
     "start_time": "2020-09-03T09:10:41.858321Z"
    }
   },
   "outputs": [],
   "source": [
    "imshow(train[0][0])"
   ]
  },
  {
   "cell_type": "code",
   "execution_count": null,
   "metadata": {
    "ExecuteTime": {
     "end_time": "2020-09-03T09:10:43.996286Z",
     "start_time": "2020-09-03T09:10:43.992298Z"
    }
   },
   "outputs": [],
   "source": [
    "train_data_loader = torch.utils.data.DataLoader(train, batch_size=16, shuffle=True, num_workers=3)\n",
    "valid_data_loader = torch.utils.data.DataLoader(valid, batch_size=16, shuffle=True, num_workers=3)"
   ]
  },
  {
   "cell_type": "markdown",
   "metadata": {},
   "source": [
    "# Build vanilla CNN"
   ]
  },
  {
   "cell_type": "code",
   "execution_count": null,
   "metadata": {
    "ExecuteTime": {
     "end_time": "2020-09-03T09:10:44.695414Z",
     "start_time": "2020-09-03T09:10:44.688433Z"
    }
   },
   "outputs": [],
   "source": [
    "class Net(nn.Module):\n",
    "    def __init__(self):\n",
    "        super().__init__()\n",
    "        self.conv1 = nn.Conv2d(3, 10, kernel_size=5, stride=1, padding=0)\n",
    "        self.conv2 = nn.Conv2d(10, 20, kernel_size=5, stride=1, padding=0)\n",
    "        self.conv2_drop = nn.Dropout2d()\n",
    "        self.fc1 = nn.Linear(56180,5000)\n",
    "        self.fc2 = nn.Linear(5000,500)\n",
    "        self.fc3 = nn.Linear(500,101)\n",
    "        \n",
    "    def forward(self,x):\n",
    "        x = F.relu(F.max_pool2d(self.conv1(x),2))\n",
    "        x = F.relu(F.max_pool2d(self.conv2_drop(self.conv2(x)),2))\n",
    "        x = x.view(x.size(0),-1)\n",
    "        x = F.relu(self.fc1(x))\n",
    "        x = F.dropout(x, training=self.training)\n",
    "        x = F.relu(self.fc2(x))\n",
    "        x = F.dropout(x, training=self.training)\n",
    "        x = self.fc3(x)\n",
    "        return F.log_softmax(x,dim=1)"
   ]
  },
  {
   "cell_type": "markdown",
   "metadata": {},
   "source": [
    "1. convolutional layer1 - max pooling - ReLU activation\n",
    "2. convolutional layer2 - dropout - max pooling - ReLU activation\n",
    "3. view\n",
    "4. linear layer1 - ReLU activation\n",
    "5. dropout\n",
    "6. linear layer2 - ReLU activation\n",
    "7. dropout\n",
    "8. linear layer3\n",
    "9. softmax"
   ]
  },
  {
   "cell_type": "code",
   "execution_count": null,
   "metadata": {
    "ExecuteTime": {
     "end_time": "2020-09-03T09:09:46.298961Z",
     "start_time": "2020-09-03T09:09:46.288989Z"
    }
   },
   "outputs": [],
   "source": [
    "def fit(epoch, model, data_loader, phase='training', volatile=False):\n",
    "    if phase == 'training':\n",
    "        model.train()\n",
    "    if phase == 'validation':\n",
    "        model.eval()\n",
    "        volatile = True\n",
    "    running_loss = 0.0\n",
    "    running_correct = 0\n",
    "    \n",
    "    for batch_idx,(data,target) in enumerate(data_loader):\n",
    "        if is_cuda:\n",
    "            data,target = data.cuda(),target.cuda()\n",
    "        data,target = Variable(data,volatile),Variable(target)\n",
    "        if phase == 'training':\n",
    "            optimizer.zero_grad()\n",
    "        output = model(data)\n",
    "        loss = F.nll_loss(output,target)\n",
    "        running_loss += F.nll_loss(output, target, reduction='mean').data\n",
    "        preds = output.data.max(dim=1, keepdim=True)[1]\n",
    "        running_correct += preds.eq(target.data.view_as(preds)).cpu().sum()\n",
    "        if phase == 'training':\n",
    "            loss.backward()\n",
    "            optimizer.step()\n",
    "            \n",
    "    loss = running_loss/len(data_loader.dataset)\n",
    "    accuracy = 100. * running_correct.item()/len(data_loader.dataset)\n",
    "        \n",
    "    print(f'{phase} loss is {loss:{5}.{2}} and {phase} accuracy is {running_correct}/{len(data_loader.dataset)}{accuracy:{10}.{4}}')\n",
    "    return loss,accuracy"
   ]
  },
  {
   "cell_type": "code",
   "execution_count": null,
   "metadata": {
    "ExecuteTime": {
     "end_time": "2020-09-03T09:10:51.581833Z",
     "start_time": "2020-09-03T09:10:48.347205Z"
    }
   },
   "outputs": [],
   "source": [
    "model = Net()\n",
    "if is_cuda:\n",
    "    model.cuda()"
   ]
  },
  {
   "cell_type": "code",
   "execution_count": null,
   "metadata": {
    "ExecuteTime": {
     "end_time": "2020-09-03T09:10:58.515981Z",
     "start_time": "2020-09-03T09:10:53.687527Z"
    }
   },
   "outputs": [],
   "source": [
    "optimizer = optim.SGD(model.parameters(), lr=0.01, momentum=0.5)\n",
    "train_losses,train_accuracy = [],[]\n",
    "val_losses,val_accuracy = [],[]\n",
    "\n",
    "for epoch in range(1,20):\n",
    "    train_epoch_loss,train_epoch_accuracy = fit(epoch, model, train_data_loader, phase='training')\n",
    "    val_epoch_loss,val_epoch_accuracy = fit(epoch, model, valid_data_loader, phase='validation')\n",
    "    train_losses.append(train_epoch_loss)\n",
    "    train_accuracy.append(train_epoch_accuracy)\n",
    "    val_losses.append(val_epoch_loss)\n",
    "    val_accuracy.append(val_epoch_accuracy)"
   ]
  },
  {
   "cell_type": "code",
   "execution_count": null,
   "metadata": {
    "ExecuteTime": {
     "end_time": "2020-09-03T08:53:16.546371Z",
     "start_time": "2020-09-03T08:52:52.353Z"
    }
   },
   "outputs": [],
   "source": [
    "plt.plot(range(1,len(train_losses)+1), train_losses, 'bo', label='training')\n",
    "plt.plot(range(1,len(val_losses)+1), val_losses, 'r', label='validation')\n",
    "plt.title('Loss')\n",
    "plt.legend()"
   ]
  },
  {
   "cell_type": "code",
   "execution_count": null,
   "metadata": {
    "ExecuteTime": {
     "end_time": "2020-09-03T08:53:16.547368Z",
     "start_time": "2020-09-03T08:52:52.356Z"
    }
   },
   "outputs": [],
   "source": [
    "plt.plot(range(1,len(train_accuracy)+1), train_accuracy, 'bo', label='training')\n",
    "plt.plot(range(1,len(val_accuracy)+1), val_accuracy, 'r', label='validation')\n",
    "plt.title('Accuracy')\n",
    "plt.legend()"
   ]
  }
 ],
 "metadata": {
  "kernelspec": {
   "display_name": "Python 3",
   "language": "python",
   "name": "python3"
  },
  "language_info": {
   "codemirror_mode": {
    "name": "ipython",
    "version": 3
   },
   "file_extension": ".py",
   "mimetype": "text/x-python",
   "name": "python",
   "nbconvert_exporter": "python",
   "pygments_lexer": "ipython3",
   "version": "3.8.3"
  },
  "toc": {
   "base_numbering": 1,
   "nav_menu": {},
   "number_sections": true,
   "sideBar": true,
   "skip_h1_title": false,
   "title_cell": "Table of Contents",
   "title_sidebar": "Contents",
   "toc_cell": false,
   "toc_position": {},
   "toc_section_display": true,
   "toc_window_display": true
  }
 },
 "nbformat": 4,
 "nbformat_minor": 4
}
