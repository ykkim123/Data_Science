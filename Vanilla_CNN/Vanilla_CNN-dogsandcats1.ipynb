{
 "cells": [
  {
   "cell_type": "code",
   "execution_count": 9,
   "metadata": {
    "ExecuteTime": {
     "end_time": "2020-09-03T07:57:19.720628Z",
     "start_time": "2020-09-03T07:57:19.712620Z"
    }
   },
   "outputs": [],
   "source": [
    "import numpy as np\n",
    "import pandas as pd\n",
    "import matplotlib.pyplot as plt\n",
    "import seaborn as sns\n",
    "%matplotlib inline\n",
    "from glob import glob,iglob\n",
    "import os\n",
    "import torch\n",
    "from torch.autograd import Variable\n",
    "import torch.nn as nn\n",
    "import torch.nn.functional as F\n",
    "import torch.optim as optim\n",
    "from torchvision import transforms\n",
    "from torchvision.datasets import ImageFolder"
   ]
  },
  {
   "cell_type": "code",
   "execution_count": 10,
   "metadata": {
    "ExecuteTime": {
     "end_time": "2020-09-03T07:57:19.727581Z",
     "start_time": "2020-09-03T07:57:19.722626Z"
    }
   },
   "outputs": [],
   "source": [
    "is_cuda = False\n",
    "if torch.cuda.is_available():\n",
    "    is_cuda = True"
   ]
  },
  {
   "cell_type": "markdown",
   "metadata": {},
   "source": [
    "# Load data"
   ]
  },
  {
   "cell_type": "code",
   "execution_count": 11,
   "metadata": {
    "ExecuteTime": {
     "end_time": "2020-09-03T07:57:19.733594Z",
     "start_time": "2020-09-03T07:57:19.729575Z"
    }
   },
   "outputs": [],
   "source": [
    "path = 'C:/Users/Yeonkang/Desktop/Deep_Learning/Image_Recognition/Vanilla_CNN/Python/data/dogsandcats/trainandvalid'"
   ]
  },
  {
   "cell_type": "markdown",
   "metadata": {},
   "source": [
    "- Dataset can be downloaded [here](https://www.kaggle.com/c/dogs-vs-cats/data)."
   ]
  },
  {
   "cell_type": "markdown",
   "metadata": {},
   "source": [
    "## Using glob"
   ]
  },
  {
   "cell_type": "code",
   "execution_count": 12,
   "metadata": {
    "ExecuteTime": {
     "end_time": "2020-09-03T07:57:19.942011Z",
     "start_time": "2020-09-03T07:57:19.736557Z"
    }
   },
   "outputs": [
    {
     "name": "stdout",
     "output_type": "stream",
     "text": [
      "Total no of images 25000\n"
     ]
    }
   ],
   "source": [
    "files = glob(os.path.join(path, '*/*.jpg'))\n",
    "print(f'Total no of images {len(files)}')"
   ]
  },
  {
   "cell_type": "markdown",
   "metadata": {},
   "source": [
    "- Read all '.jpg' files inside the folder\n",
    "- Use *iglob* when there are too many files to load"
   ]
  },
  {
   "cell_type": "code",
   "execution_count": 13,
   "metadata": {
    "ExecuteTime": {
     "end_time": "2020-09-03T07:57:19.947447Z",
     "start_time": "2020-09-03T07:57:19.942935Z"
    }
   },
   "outputs": [],
   "source": [
    "no_of_images = 25000"
   ]
  },
  {
   "cell_type": "code",
   "execution_count": 14,
   "metadata": {
    "ExecuteTime": {
     "end_time": "2020-09-03T07:57:19.959437Z",
     "start_time": "2020-09-03T07:57:19.948997Z"
    }
   },
   "outputs": [],
   "source": [
    "np.random.seed(0)\n",
    "shuffle = np.random.permutation(no_of_images)"
   ]
  },
  {
   "cell_type": "code",
   "execution_count": 15,
   "metadata": {
    "ExecuteTime": {
     "end_time": "2020-09-03T07:57:19.967417Z",
     "start_time": "2020-09-03T07:57:19.961463Z"
    }
   },
   "outputs": [
    {
     "data": {
      "text/plain": [
       "array([14149,  8946, 22378, ...,  9845, 10799,  2732])"
      ]
     },
     "execution_count": 15,
     "metadata": {},
     "output_type": "execute_result"
    }
   ],
   "source": [
    "shuffle"
   ]
  },
  {
   "cell_type": "markdown",
   "metadata": {},
   "source": [
    "- Return a randomly permuted sequence of 0,1,...,24999\n",
    "- list of integers used for choosing validation data"
   ]
  },
  {
   "cell_type": "code",
   "execution_count": 16,
   "metadata": {
    "ExecuteTime": {
     "end_time": "2020-09-03T07:57:19.982380Z",
     "start_time": "2020-09-03T07:57:19.970408Z"
    }
   },
   "outputs": [],
   "source": [
    "os.mkdir(os.path.join(path,'train'))\n",
    "os.mkdir(os.path.join(path,'valid'))\n",
    "\n",
    "for t in ['train','valid']:\n",
    "    for folder in ['dog/','cat/']:\n",
    "        os.mkdir(os.path.join(path,t,folder))"
   ]
  },
  {
   "cell_type": "markdown",
   "metadata": {},
   "source": [
    "1. Create *train* and *valid* folder\n",
    "2. Under these folders, create *dog* and *cat* folder respectively"
   ]
  },
  {
   "cell_type": "code",
   "execution_count": 17,
   "metadata": {
    "ExecuteTime": {
     "end_time": "2020-09-03T07:57:22.282120Z",
     "start_time": "2020-09-03T07:57:19.987364Z"
    }
   },
   "outputs": [],
   "source": [
    "for i in shuffle[:2000]:\n",
    "    folder = files[i].split('/')[-1].split('.')[0][-3:]\n",
    "    image = files[i].split('/')[-1][22:]\n",
    "    os.rename(files[i], os.path.join(path,'valid',folder,image))"
   ]
  },
  {
   "cell_type": "markdown",
   "metadata": {},
   "source": [
    "- Randomly select 2000 images and move them to the corresponding folder(either *dog* or *cat*) under *valid*"
   ]
  },
  {
   "cell_type": "code",
   "execution_count": 18,
   "metadata": {
    "ExecuteTime": {
     "end_time": "2020-09-03T07:57:55.281858Z",
     "start_time": "2020-09-03T07:57:22.283115Z"
    }
   },
   "outputs": [],
   "source": [
    "for i in shuffle[2000:]:\n",
    "    folder = files[i].split('/')[-1].split('.')[0][-3:]\n",
    "    image = files[i].split('/')[-1][22:]\n",
    "    os.rename(files[i], os.path.join(path,'train',folder,image))"
   ]
  },
  {
   "cell_type": "markdown",
   "metadata": {},
   "source": [
    "- Move remaining 23000 images to *train*"
   ]
  },
  {
   "cell_type": "code",
   "execution_count": 19,
   "metadata": {
    "ExecuteTime": {
     "end_time": "2020-09-03T07:57:55.294819Z",
     "start_time": "2020-09-03T07:57:55.285843Z"
    }
   },
   "outputs": [],
   "source": [
    "path = 'C:/Users/Yeonkang/Desktop/Deep_Learning/Image_Recognition/Vanilla_CNN/Python/data/dogsandcats/trainandvalid'"
   ]
  },
  {
   "cell_type": "code",
   "execution_count": 20,
   "metadata": {
    "ExecuteTime": {
     "end_time": "2020-09-03T07:57:55.756122Z",
     "start_time": "2020-09-03T07:57:55.298823Z"
    }
   },
   "outputs": [],
   "source": [
    "simple_transform = transforms.Compose([transforms.Resize((224,224)), transforms.ToTensor(), \n",
    "                                       transforms.Normalize([0.485,0.456,0.406],[0.229,0.224,0.225])])\n",
    "train = ImageFolder(os.path.join(path,'train'), simple_transform)\n",
    "valid = ImageFolder(os.path.join(path,'valid'), simple_transform)"
   ]
  },
  {
   "cell_type": "markdown",
   "metadata": {},
   "source": [
    "1. Resize all images to the same size\n",
    "2. Convert to tensor\n",
    "3. Normalize by mean and standard deviation of each RGB channel"
   ]
  },
  {
   "cell_type": "code",
   "execution_count": 21,
   "metadata": {
    "ExecuteTime": {
     "end_time": "2020-09-03T07:57:55.769112Z",
     "start_time": "2020-09-03T07:57:55.762634Z"
    }
   },
   "outputs": [
    {
     "name": "stdout",
     "output_type": "stream",
     "text": [
      "{'cat': 0, 'dog': 1}\n",
      "['cat', 'dog']\n"
     ]
    }
   ],
   "source": [
    "print(train.class_to_idx)\n",
    "print(train.classes)"
   ]
  },
  {
   "cell_type": "code",
   "execution_count": 22,
   "metadata": {
    "ExecuteTime": {
     "end_time": "2020-09-03T07:57:55.786070Z",
     "start_time": "2020-09-03T07:57:55.773101Z"
    }
   },
   "outputs": [],
   "source": [
    "def imshow(inp):\n",
    "    inp = inp.numpy().transpose((1,2,0))\n",
    "    mean,std = np.array([0.485,0.456,0.406]),np.array([0.229,0.224,0.225])\n",
    "    inp = std * inp + mean\n",
    "    inp = np.clip(inp,0,1)\n",
    "    plt.imshow(inp)"
   ]
  },
  {
   "cell_type": "markdown",
   "metadata": {},
   "source": [
    "1. Convert tensor to numpy, then transpose the matrix\n",
    "2. Denormalize data\n",
    "3. Replace values that are not in [0,1] with 0"
   ]
  },
  {
   "cell_type": "code",
   "execution_count": 23,
   "metadata": {
    "ExecuteTime": {
     "end_time": "2020-09-03T07:57:55.936662Z",
     "start_time": "2020-09-03T07:57:55.795042Z"
    },
    "scrolled": true
   },
   "outputs": [
    {
     "data": {
      "text/plain": [
       "(3, 224, 224)"
      ]
     },
     "execution_count": 23,
     "metadata": {},
     "output_type": "execute_result"
    }
   ],
   "source": [
    "train[50][0].numpy().shape"
   ]
  },
  {
   "cell_type": "markdown",
   "metadata": {},
   "source": [
    "- number of RGB channels X height X width"
   ]
  },
  {
   "cell_type": "code",
   "execution_count": 24,
   "metadata": {
    "ExecuteTime": {
     "end_time": "2020-09-03T07:57:55.954614Z",
     "start_time": "2020-09-03T07:57:55.939655Z"
    }
   },
   "outputs": [
    {
     "data": {
      "text/plain": [
       "(224, 224, 3)"
      ]
     },
     "execution_count": 24,
     "metadata": {},
     "output_type": "execute_result"
    }
   ],
   "source": [
    "train[50][0].numpy().transpose((1,2,0)).shape"
   ]
  },
  {
   "cell_type": "markdown",
   "metadata": {},
   "source": [
    "- 23~24: Code for explaining how does *transpose* work"
   ]
  },
  {
   "cell_type": "code",
   "execution_count": 25,
   "metadata": {
    "ExecuteTime": {
     "end_time": "2020-09-03T07:57:56.284240Z",
     "start_time": "2020-09-03T07:57:55.958605Z"
    }
   },
   "outputs": [
    {
     "data": {
      "image/png": "[encoded data removed]",
      "text/plain": [
       "<Figure size 432x288 with 1 Axes>"
      ]
     },
     "metadata": {
      "needs_background": "light"
     },
     "output_type": "display_data"
    }
   ],
   "source": [
    "imshow(train[50][0])"
   ]
  },
  {
   "cell_type": "code",
   "execution_count": 26,
   "metadata": {
    "ExecuteTime": {
     "end_time": "2020-09-03T07:57:56.292220Z",
     "start_time": "2020-09-03T07:57:56.286236Z"
    }
   },
   "outputs": [],
   "source": [
    "train_data_loader = torch.utils.data.DataLoader(train, batch_size=16, shuffle=True, num_workers=3)\n",
    "valid_data_loader = torch.utils.data.DataLoader(valid, batch_size=16, shuffle=True, num_workers=3)"
   ]
  },
  {
   "cell_type": "markdown",
   "metadata": {},
   "source": [
    "- num_workers: responsible for parallelization\n",
    " - generally assigned smaller value than the number of cores available in the machine\n",
    " - but bigger value does not always guarantee better result"
   ]
  },
  {
   "cell_type": "markdown",
   "metadata": {},
   "source": [
    "## Using iglob"
   ]
  },
  {
   "cell_type": "code",
   "execution_count": null,
   "metadata": {
    "ExecuteTime": {
     "end_time": "2020-09-03T07:49:09.004948Z",
     "start_time": "2020-09-03T07:49:08.998962Z"
    }
   },
   "outputs": [],
   "source": [
    "gen = iglob(os.path.join(path, '*/*.jpg'))\n",
    "it = iter(gen)\n",
    "it"
   ]
  },
  {
   "cell_type": "code",
   "execution_count": null,
   "metadata": {
    "ExecuteTime": {
     "end_time": "2020-09-03T07:49:09.010929Z",
     "start_time": "2020-09-03T07:49:09.006941Z"
    }
   },
   "outputs": [],
   "source": [
    "no_of_images = 25000"
   ]
  },
  {
   "cell_type": "code",
   "execution_count": null,
   "metadata": {
    "ExecuteTime": {
     "end_time": "2020-09-03T07:49:09.937958Z",
     "start_time": "2020-09-03T07:49:09.013923Z"
    }
   },
   "outputs": [],
   "source": [
    "os.mkdir(os.path.join(path,'train'))\n",
    "os.mkdir(os.path.join(path,'valid'))\n",
    "\n",
    "for t in ['train','valid']:\n",
    "    for folder in ['dog/','cat/']:\n",
    "        os.mkdir(os.path.join(path,t,folder))"
   ]
  },
  {
   "cell_type": "code",
   "execution_count": null,
   "metadata": {
    "ExecuteTime": {
     "end_time": "2020-09-03T07:49:09.939952Z",
     "start_time": "2020-09-03T07:48:25.916Z"
    }
   },
   "outputs": [],
   "source": [
    "np.random.seed(0)\n",
    "\n",
    "shuffle = np.repeat(0, no_of_images)\n",
    "idx = np.random.permutation(no_of_images)\n",
    "\n",
    "for i in idx[:2000]:\n",
    "    shuffle[i] = 1"
   ]
  },
  {
   "cell_type": "code",
   "execution_count": null,
   "metadata": {
    "ExecuteTime": {
     "end_time": "2020-09-03T07:49:09.940950Z",
     "start_time": "2020-09-03T07:48:25.919Z"
    }
   },
   "outputs": [],
   "source": [
    "while True:\n",
    "    try:\n",
    "        for i in range((no_of_images+1)):\n",
    "            file = next(it)\n",
    "            folder = file.split('/')[-1].split('.')[0][-3:]\n",
    "            image = file.split('/')[-1][22:]\n",
    "            if shuffle[i]==1:\n",
    "                os.rename(file, os.path.join(path,'valid',folder,image))\n",
    "            else:\n",
    "                os.rename(file, os.path.join(path,'train',folder,image))\n",
    "    except StopIteration:\n",
    "        break"
   ]
  },
  {
   "cell_type": "markdown",
   "metadata": {},
   "source": [
    "# Build vanilla CNN"
   ]
  },
  {
   "cell_type": "code",
   "execution_count": 27,
   "metadata": {
    "ExecuteTime": {
     "end_time": "2020-09-03T07:59:22.271223Z",
     "start_time": "2020-09-03T07:59:22.257261Z"
    }
   },
   "outputs": [],
   "source": [
    "class Net(nn.Module):\n",
    "    def __init__(self):\n",
    "        super().__init__()\n",
    "        self.conv1 = nn.Conv2d(3, 10, kernel_size=5, stride=1, padding=0)\n",
    "        self.conv2 = nn.Conv2d(10, 20, kernel_size=5, stride=1, padding=0)\n",
    "        self.conv2_drop = nn.Dropout2d()\n",
    "        self.fc1 = nn.Linear(56180,500)\n",
    "        self.fc2 = nn.Linear(500,50)\n",
    "        self.fc3 = nn.Linear(50,2)\n",
    "        \n",
    "    def forward(self,x):\n",
    "        x = F.relu(F.max_pool2d(self.conv1(x),2))\n",
    "        x = F.relu(F.max_pool2d(self.conv2_drop(self.conv2(x)),2))\n",
    "        y = x.view(x.size(0),-1)\n",
    "        return x,y"
   ]
  },
  {
   "cell_type": "code",
   "execution_count": 28,
   "metadata": {
    "ExecuteTime": {
     "end_time": "2020-09-03T07:59:22.290171Z",
     "start_time": "2020-09-03T07:59:22.276211Z"
    }
   },
   "outputs": [],
   "source": [
    "def fit(epoch, model, data_loader, phase='training', volatile=False):\n",
    "    if phase == 'training':\n",
    "        model.train()\n",
    "    if phase == 'validation':\n",
    "        model.eval()\n",
    "        volatile = True\n",
    "    running_loss = 0.0\n",
    "    running_correct = 0\n",
    "    \n",
    "    for batch_idx,(data,target) in enumerate(data_loader):\n",
    "        if is_cuda:\n",
    "            data,target = data.cuda(),target.cuda()\n",
    "        data,target = Variable(data,volatile),Variable(target)\n",
    "        if phase == 'training':\n",
    "            optimizer.zero_grad()\n",
    "        x,y = model(data)\n",
    "            \n",
    "    return x,y"
   ]
  },
  {
   "cell_type": "code",
   "execution_count": 29,
   "metadata": {
    "ExecuteTime": {
     "end_time": "2020-09-03T08:00:48.404648Z",
     "start_time": "2020-09-03T07:59:22.296155Z"
    }
   },
   "outputs": [],
   "source": [
    "model = Net()\n",
    "if is_cuda:\n",
    "    model.cuda()\n",
    "\n",
    "optimizer = optim.SGD(model.parameters(), lr=0.01, momentum=0.5)\n",
    "x,y = fit(1, model, train_data_loader, phase='training')"
   ]
  },
  {
   "cell_type": "code",
   "execution_count": 30,
   "metadata": {
    "ExecuteTime": {
     "end_time": "2020-09-03T08:00:48.423597Z",
     "start_time": "2020-09-03T08:00:48.411631Z"
    }
   },
   "outputs": [
    {
     "data": {
      "text/plain": [
       "torch.Size([8, 20, 53, 53])"
      ]
     },
     "execution_count": 30,
     "metadata": {},
     "output_type": "execute_result"
    }
   ],
   "source": [
    "x.shape"
   ]
  },
  {
   "cell_type": "code",
   "execution_count": 31,
   "metadata": {
    "ExecuteTime": {
     "end_time": "2020-09-03T08:00:48.435568Z",
     "start_time": "2020-09-03T08:00:48.428584Z"
    }
   },
   "outputs": [
    {
     "data": {
      "text/plain": [
       "torch.Size([8, 56180])"
      ]
     },
     "execution_count": 31,
     "metadata": {},
     "output_type": "execute_result"
    }
   ],
   "source": [
    "y.shape"
   ]
  },
  {
   "cell_type": "code",
   "execution_count": 32,
   "metadata": {
    "ExecuteTime": {
     "end_time": "2020-09-03T08:00:48.448531Z",
     "start_time": "2020-09-03T08:00:48.440559Z"
    }
   },
   "outputs": [
    {
     "data": {
      "text/plain": [
       "torch.Size([56180, 8])"
      ]
     },
     "execution_count": 32,
     "metadata": {},
     "output_type": "execute_result"
    }
   ],
   "source": [
    "x.view(-1,x.shape[0]).shape"
   ]
  },
  {
   "cell_type": "markdown",
   "metadata": {},
   "source": [
    "- 27~32: Code for explaining how does *view* work"
   ]
  },
  {
   "cell_type": "code",
   "execution_count": 33,
   "metadata": {
    "ExecuteTime": {
     "end_time": "2020-09-03T08:00:48.465486Z",
     "start_time": "2020-09-03T08:00:48.450527Z"
    }
   },
   "outputs": [],
   "source": [
    "class Net(nn.Module):\n",
    "    def __init__(self):\n",
    "        super().__init__()\n",
    "        self.conv1 = nn.Conv2d(3, 10, kernel_size=5, stride=1, padding=0)\n",
    "        self.conv2 = nn.Conv2d(10, 20, kernel_size=5, stride=1, padding=0)\n",
    "        self.conv2_drop = nn.Dropout2d()\n",
    "        self.fc1 = nn.Linear(56180,500)\n",
    "        self.fc2 = nn.Linear(500,50)\n",
    "        self.fc3 = nn.Linear(50,2)\n",
    "        \n",
    "    def forward(self,x):\n",
    "        x = F.relu(F.max_pool2d(self.conv1(x),2))\n",
    "        x = F.relu(F.max_pool2d(self.conv2_drop(self.conv2(x)),2))\n",
    "        x = x.view(x.size(0),-1)\n",
    "        x = F.relu(self.fc1(x))\n",
    "        x = F.dropout(x, training=self.training)\n",
    "        x = F.relu(self.fc2(x))\n",
    "        x = F.dropout(x, training=self.training)\n",
    "        x = self.fc3(x)\n",
    "        return F.log_softmax(x,dim=1)"
   ]
  },
  {
   "cell_type": "markdown",
   "metadata": {},
   "source": [
    "1. convolutional layer1 - max pooling - ReLU activation\n",
    "2. convolutional layer2 - dropout - max pooling - ReLU activation\n",
    "3. view\n",
    "4. linear layer1 - ReLU activation\n",
    "5. dropout\n",
    "6. linear layer2 - ReLU activation\n",
    "7. dropout\n",
    "8. linear layer3\n",
    "9. softmax"
   ]
  },
  {
   "cell_type": "markdown",
   "metadata": {},
   "source": [
    "- Additional linear layer for more flexibility"
   ]
  },
  {
   "cell_type": "code",
   "execution_count": 34,
   "metadata": {
    "ExecuteTime": {
     "end_time": "2020-09-03T08:00:48.483438Z",
     "start_time": "2020-09-03T08:00:48.468477Z"
    }
   },
   "outputs": [],
   "source": [
    "def fit(epoch, model, data_loader, phase='training', volatile=False):\n",
    "    if phase == 'training':\n",
    "        model.train()\n",
    "    if phase == 'validation':\n",
    "        model.eval()\n",
    "        volatile = True\n",
    "    running_loss = 0.0\n",
    "    running_correct = 0\n",
    "    \n",
    "    for batch_idx,(data,target) in enumerate(data_loader):\n",
    "        if is_cuda:\n",
    "            data,target = data.cuda(),target.cuda()\n",
    "        data,target = Variable(data,volatile),Variable(target)\n",
    "        if phase == 'training':\n",
    "            optimizer.zero_grad()\n",
    "        output = model(data)\n",
    "        loss = F.nll_loss(output,target)\n",
    "        running_loss += F.nll_loss(output, target, reduction='mean').data\n",
    "        preds = output.data.max(dim=1, keepdim=True)[1]\n",
    "        running_correct += preds.eq(target.data.view_as(preds)).cpu().sum()\n",
    "        if phase == 'training':\n",
    "            loss.backward()\n",
    "            optimizer.step()\n",
    "            \n",
    "    loss = running_loss/len(data_loader.dataset)\n",
    "    accuracy = 100. * running_correct.item()/len(data_loader.dataset)\n",
    "        \n",
    "    print(f'{phase} loss is {loss:{5}.{2}} and {phase} accuracy is {running_correct}/{len(data_loader.dataset)}{accuracy:{10}.{4}}')\n",
    "    return loss,accuracy"
   ]
  },
  {
   "cell_type": "code",
   "execution_count": 35,
   "metadata": {
    "ExecuteTime": {
     "end_time": "2020-09-03T08:00:48.745297Z",
     "start_time": "2020-09-03T08:00:48.485433Z"
    }
   },
   "outputs": [],
   "source": [
    "model = Net()\n",
    "if is_cuda:\n",
    "    model.cuda()"
   ]
  },
  {
   "cell_type": "code",
   "execution_count": 36,
   "metadata": {
    "ExecuteTime": {
     "end_time": "2020-09-03T08:25:48.956519Z",
     "start_time": "2020-09-03T08:00:48.747254Z"
    }
   },
   "outputs": [
    {
     "name": "stdout",
     "output_type": "stream",
     "text": [
      "training loss is 0.042 and training accuracy is 13431/23000      58.4\n",
      "validation loss is 0.039 and validation accuracy is 1333/2000     66.65\n",
      "training loss is 0.039 and training accuracy is 15092/23000     65.62\n",
      "validation loss is 0.035 and validation accuracy is 1426/2000      71.3\n",
      "training loss is 0.036 and training accuracy is 16207/23000     70.47\n",
      "validation loss is 0.032 and validation accuracy is 1489/2000     74.45\n",
      "training loss is 0.033 and training accuracy is 16960/23000     73.74\n",
      "validation loss is 0.031 and validation accuracy is 1507/2000     75.35\n",
      "training loss is 0.031 and training accuracy is 17516/23000     76.16\n",
      "validation loss is 0.029 and validation accuracy is 1552/2000      77.6\n",
      "training loss is 0.029 and training accuracy is 17975/23000     78.15\n",
      "validation loss is  0.03 and validation accuracy is 1527/2000     76.35\n",
      "training loss is 0.026 and training accuracy is 18595/23000     80.85\n",
      "validation loss is 0.029 and validation accuracy is 1535/2000     76.75\n",
      "training loss is 0.024 and training accuracy is 19058/23000     82.86\n",
      "validation loss is 0.028 and validation accuracy is 1577/2000     78.85\n",
      "training loss is 0.022 and training accuracy is 19569/23000     85.08\n",
      "validation loss is 0.028 and validation accuracy is 1574/2000      78.7\n",
      "training loss is 0.019 and training accuracy is 20055/23000      87.2\n",
      "validation loss is 0.029 and validation accuracy is 1573/2000     78.65\n",
      "training loss is 0.017 and training accuracy is 20502/23000     89.14\n",
      "validation loss is  0.03 and validation accuracy is 1561/2000     78.05\n",
      "training loss is 0.015 and training accuracy is 20749/23000     90.21\n",
      "validation loss is 0.029 and validation accuracy is 1585/2000     79.25\n",
      "training loss is 0.013 and training accuracy is 21103/23000     91.75\n",
      "validation loss is  0.03 and validation accuracy is 1596/2000      79.8\n",
      "training loss is 0.012 and training accuracy is 21368/23000      92.9\n",
      "validation loss is 0.033 and validation accuracy is 1538/2000      76.9\n",
      "training loss is 0.011 and training accuracy is 21436/23000      93.2\n",
      "validation loss is 0.031 and validation accuracy is 1564/2000      78.2\n",
      "training loss is 0.0097 and training accuracy is 21657/23000     94.16\n",
      "validation loss is 0.032 and validation accuracy is 1557/2000     77.85\n",
      "training loss is 0.0089 and training accuracy is 21732/23000     94.49\n",
      "validation loss is 0.034 and validation accuracy is 1553/2000     77.65\n",
      "training loss is 0.0084 and training accuracy is 21850/23000      95.0\n",
      "validation loss is 0.032 and validation accuracy is 1556/2000      77.8\n",
      "training loss is 0.0081 and training accuracy is 21951/23000     95.44\n",
      "validation loss is 0.033 and validation accuracy is 1580/2000      79.0\n"
     ]
    }
   ],
   "source": [
    "optimizer = optim.SGD(model.parameters(), lr=0.01, momentum=0.5)\n",
    "train_losses,train_accuracy = [],[]\n",
    "val_losses,val_accuracy = [],[]\n",
    "\n",
    "for epoch in range(1,20):\n",
    "    train_epoch_loss,train_epoch_accuracy = fit(epoch, model, train_data_loader, phase='training')\n",
    "    val_epoch_loss,val_epoch_accuracy = fit(epoch, model, valid_data_loader, phase='validation')\n",
    "    train_losses.append(train_epoch_loss)\n",
    "    train_accuracy.append(train_epoch_accuracy)\n",
    "    val_losses.append(val_epoch_loss)\n",
    "    val_accuracy.append(val_epoch_accuracy)"
   ]
  },
  {
   "cell_type": "code",
   "execution_count": 37,
   "metadata": {
    "ExecuteTime": {
     "end_time": "2020-09-03T08:25:49.175902Z",
     "start_time": "2020-09-03T08:25:48.958483Z"
    }
   },
   "outputs": [
    {
     "data": {
      "text/plain": [
       "<matplotlib.legend.Legend at 0x1edfe8eec70>"
      ]
     },
     "execution_count": 37,
     "metadata": {},
     "output_type": "execute_result"
    },
    {
     "data": {
      "image/png": "[encoded data removed]",
      "text/plain": [
       "<Figure size 432x288 with 1 Axes>"
      ]
     },
     "metadata": {
      "needs_background": "light"
     },
     "output_type": "display_data"
    }
   ],
   "source": [
    "plt.plot(range(1,len(train_losses)+1), train_losses, 'bo', label='training')\n",
    "plt.plot(range(1,len(val_losses)+1), val_losses, 'r', label='validation')\n",
    "plt.title('Loss')\n",
    "plt.legend()"
   ]
  },
  {
   "cell_type": "code",
   "execution_count": 38,
   "metadata": {
    "ExecuteTime": {
     "end_time": "2020-09-03T08:25:49.342457Z",
     "start_time": "2020-09-03T08:25:49.176902Z"
    }
   },
   "outputs": [
    {
     "data": {
      "text/plain": [
       "<matplotlib.legend.Legend at 0x1ed80064700>"
      ]
     },
     "execution_count": 38,
     "metadata": {},
     "output_type": "execute_result"
    },
    {
     "data": {
      "image/png": "[encoded data removed]",
      "text/plain": [
       "<Figure size 432x288 with 1 Axes>"
      ]
     },
     "metadata": {
      "needs_background": "light"
     },
     "output_type": "display_data"
    }
   ],
   "source": [
    "plt.plot(range(1,len(train_accuracy)+1), train_accuracy, 'bo', label='training')\n",
    "plt.plot(range(1,len(val_accuracy)+1), val_accuracy, 'r', label='validation')\n",
    "plt.title('Accuracy')\n",
    "plt.legend()"
   ]
  },
  {
   "cell_type": "markdown",
   "metadata": {},
   "source": [
    "- Overfitting occurs after epoch 6"
   ]
  },
  {
   "cell_type": "code",
   "execution_count": 39,
   "metadata": {
    "ExecuteTime": {
     "end_time": "2020-09-03T08:25:49.880018Z",
     "start_time": "2020-09-03T08:25:49.343455Z"
    }
   },
   "outputs": [],
   "source": [
    "savePath = \"C:/Users/Yeonkang/Desktop/Deep_Learning/Image_Recognition/Vanilla_CNN/Python/Vanilla_CNN-dogsandcats.pth\"\n",
    "torch.save(model.state_dict(), savePath)"
   ]
  }
 ],
 "metadata": {
  "kernelspec": {
   "display_name": "Python 3",
   "language": "python",
   "name": "python3"
  },
  "language_info": {
   "codemirror_mode": {
    "name": "ipython",
    "version": 3
   },
   "file_extension": ".py",
   "mimetype": "text/x-python",
   "name": "python",
   "nbconvert_exporter": "python",
   "pygments_lexer": "ipython3",
   "version": "3.8.3"
  },
  "toc": {
   "base_numbering": 1,
   "nav_menu": {},
   "number_sections": true,
   "sideBar": true,
   "skip_h1_title": false,
   "title_cell": "Table of Contents",
   "title_sidebar": "Contents",
   "toc_cell": false,
   "toc_position": {
    "height": "calc(100% - 180px)",
    "left": "10px",
    "top": "150px",
    "width": "307.2px"
   },
   "toc_section_display": true,
   "toc_window_display": false
  }
 },
 "nbformat": 4,
 "nbformat_minor": 4
}
