{
 "cells": [
  {
   "cell_type": "code",
   "execution_count": 1,
   "metadata": {
    "ExecuteTime": {
     "end_time": "2020-08-25T13:37:01.348852Z",
     "start_time": "2020-08-25T13:36:59.787865Z"
    }
   },
   "outputs": [],
   "source": [
    "import numpy as np\n",
    "import pandas as pd\n",
    "import matplotlib.pyplot as plt\n",
    "import seaborn as sns\n",
    "%matplotlib inline\n",
    "import torch"
   ]
  },
  {
   "cell_type": "code",
   "execution_count": 2,
   "metadata": {
    "ExecuteTime": {
     "end_time": "2020-08-25T13:37:02.286356Z",
     "start_time": "2020-08-25T13:37:01.349846Z"
    }
   },
   "outputs": [],
   "source": [
    "is_cuda = False\n",
    "if torch.cuda.is_available():\n",
    "    is_cuda = True"
   ]
  },
  {
   "cell_type": "markdown",
   "metadata": {},
   "source": [
    "# Load data"
   ]
  },
  {
   "cell_type": "code",
   "execution_count": 3,
   "metadata": {
    "ExecuteTime": {
     "end_time": "2020-08-25T13:37:02.292326Z",
     "start_time": "2020-08-25T13:37:02.288337Z"
    }
   },
   "outputs": [],
   "source": [
    "path = 'C:/Users/Yeonkang/Desktop/Deep_Learning/Image_Recognition/Vanilla_CNN/Python/data/dogsandcats/trainandvalid'"
   ]
  },
  {
   "cell_type": "markdown",
   "metadata": {},
   "source": [
    "- Dataset can be downloaded [here](https://www.kaggle.com/c/dogs-vs-cats/data)."
   ]
  },
  {
   "cell_type": "markdown",
   "metadata": {},
   "source": [
    "## Using glob"
   ]
  },
  {
   "cell_type": "code",
   "execution_count": 4,
   "metadata": {
    "ExecuteTime": {
     "end_time": "2020-08-25T13:37:02.462895Z",
     "start_time": "2020-08-25T13:37:02.293325Z"
    }
   },
   "outputs": [
    {
     "name": "stdout",
     "output_type": "stream",
     "text": [
      "Total no of images 25000\n"
     ]
    }
   ],
   "source": [
    "from glob import glob\n",
    "import os\n",
    "\n",
    "files = glob(os.path.join(path,'*/*.jpg'))\n",
    "print(f'Total no of images {len(files)}')"
   ]
  },
  {
   "cell_type": "markdown",
   "metadata": {},
   "source": [
    "- Read all '.jpg' files inside the folder\n",
    "- Use *iglob* when there are too many files to load"
   ]
  },
  {
   "cell_type": "code",
   "execution_count": 5,
   "metadata": {
    "ExecuteTime": {
     "end_time": "2020-08-25T13:37:03.006047Z",
     "start_time": "2020-08-25T13:37:03.002058Z"
    }
   },
   "outputs": [],
   "source": [
    "no_of_images = 25000"
   ]
  },
  {
   "cell_type": "code",
   "execution_count": 6,
   "metadata": {
    "ExecuteTime": {
     "end_time": "2020-08-25T13:37:03.767671Z",
     "start_time": "2020-08-25T13:37:03.763684Z"
    }
   },
   "outputs": [],
   "source": [
    "np.random.seed(0)\n",
    "shuffle = np.random.permutation(no_of_images)"
   ]
  },
  {
   "cell_type": "code",
   "execution_count": 7,
   "metadata": {
    "ExecuteTime": {
     "end_time": "2020-08-25T13:37:04.345257Z",
     "start_time": "2020-08-25T13:37:04.338273Z"
    }
   },
   "outputs": [
    {
     "data": {
      "text/plain": [
       "array([14149,  8946, 22378, ...,  9845, 10799,  2732])"
      ]
     },
     "execution_count": 7,
     "metadata": {},
     "output_type": "execute_result"
    }
   ],
   "source": [
    "shuffle"
   ]
  },
  {
   "cell_type": "markdown",
   "metadata": {},
   "source": [
    "- Return a randomly permuted sequence of 0,1,...,24999\n",
    "- list of integers used for selecting validation data"
   ]
  },
  {
   "cell_type": "code",
   "execution_count": 8,
   "metadata": {
    "ExecuteTime": {
     "end_time": "2020-08-25T13:37:05.362741Z",
     "start_time": "2020-08-25T13:37:05.351772Z"
    }
   },
   "outputs": [],
   "source": [
    "os.mkdir(os.path.join(path,'train'))\n",
    "os.mkdir(os.path.join(path,'valid'))\n",
    "\n",
    "for t in ['train','valid']:\n",
    "    for folder in ['dog/','cat/']:\n",
    "        os.mkdir(os.path.join(path,t,folder))"
   ]
  },
  {
   "cell_type": "markdown",
   "metadata": {},
   "source": [
    "1. Create *train* and *valid* folder\n",
    "2. Under these folders, create *cat* and *dog* folder respectively"
   ]
  },
  {
   "cell_type": "code",
   "execution_count": 9,
   "metadata": {
    "ExecuteTime": {
     "end_time": "2020-08-25T13:37:07.935404Z",
     "start_time": "2020-08-25T13:37:06.436449Z"
    }
   },
   "outputs": [],
   "source": [
    "for i in shuffle[:2000]:\n",
    "    folder = files[i].split('/')[-1].split('.')[0][-3:]\n",
    "    image = files[i].split('/')[-1][22:]\n",
    "    os.rename(files[i], os.path.join(path,'valid',folder,image))"
   ]
  },
  {
   "cell_type": "markdown",
   "metadata": {},
   "source": [
    "- Randomly select 2000 images and move them to the corresponding folder(either *dog* or *cat*) under *valid*"
   ]
  },
  {
   "cell_type": "code",
   "execution_count": 10,
   "metadata": {
    "ExecuteTime": {
     "end_time": "2020-08-25T13:37:29.945566Z",
     "start_time": "2020-08-25T13:37:11.342295Z"
    }
   },
   "outputs": [],
   "source": [
    "for i in shuffle[2000:]:\n",
    "    folder = files[i].split('/')[-1].split('.')[0][-3:]\n",
    "    image = files[i].split('/')[-1][22:]\n",
    "    os.rename(files[i], os.path.join(path,'train',folder,image))"
   ]
  },
  {
   "cell_type": "markdown",
   "metadata": {},
   "source": [
    "- Move remaining 23000 images to *train*"
   ]
  },
  {
   "cell_type": "code",
   "execution_count": 11,
   "metadata": {
    "ExecuteTime": {
     "end_time": "2020-08-25T13:37:30.302610Z",
     "start_time": "2020-08-25T13:37:29.947560Z"
    }
   },
   "outputs": [],
   "source": [
    "from torchvision import transforms\n",
    "from torchvision.datasets import ImageFolder\n",
    "\n",
    "simple_transform = transforms.Compose([transforms.Resize((224,224)),\n",
    "                                      transforms.ToTensor(),\n",
    "                                      transforms.Normalize([0.485,0.456,0.406],[0.229,0.224,0.225])])\n",
    "train = ImageFolder('C:/Users/Yeonkang/Desktop/Deep_Learning/Image_Recognition/Vanilla_CNN/Python/data/dogsandcats/trainandvalid/train', simple_transform)\n",
    "valid = ImageFolder('C:/Users/Yeonkang/Desktop/Deep_Learning/Image_Recognition/Vanilla_CNN/Python/data/dogsandcats/trainandvalid/valid', simple_transform)"
   ]
  },
  {
   "cell_type": "markdown",
   "metadata": {},
   "source": [
    "1. Resize all images to the same size\n",
    "2. Convert to tensor\n",
    "3. Normalize by mean and standard deviation of each RGB channel"
   ]
  },
  {
   "cell_type": "code",
   "execution_count": 12,
   "metadata": {
    "ExecuteTime": {
     "end_time": "2020-08-25T13:37:30.309592Z",
     "start_time": "2020-08-25T13:37:30.304606Z"
    }
   },
   "outputs": [
    {
     "name": "stdout",
     "output_type": "stream",
     "text": [
      "{'cat': 0, 'dog': 1}\n",
      "['cat', 'dog']\n"
     ]
    }
   ],
   "source": [
    "print(train.class_to_idx)\n",
    "print(train.classes)"
   ]
  },
  {
   "cell_type": "code",
   "execution_count": 13,
   "metadata": {
    "ExecuteTime": {
     "end_time": "2020-08-25T13:37:30.317571Z",
     "start_time": "2020-08-25T13:37:30.311587Z"
    }
   },
   "outputs": [],
   "source": [
    "def imshow(inp):\n",
    "    inp = inp.numpy().transpose((1,2,0))\n",
    "    mean = np.array([0.485,0.456,0.406])\n",
    "    std = np.array([0.229,0.224,0.225])\n",
    "    inp = std * inp + mean\n",
    "    inp = np.clip(inp,0,1)\n",
    "    plt.imshow(inp)"
   ]
  },
  {
   "cell_type": "markdown",
   "metadata": {},
   "source": [
    "1. Convert tensor to numpy, then transpose the matrix\n",
    "2. Denormalize data\n",
    "3. Replace values not in [0,1]"
   ]
  },
  {
   "cell_type": "code",
   "execution_count": 14,
   "metadata": {
    "ExecuteTime": {
     "end_time": "2020-08-25T13:37:30.371427Z",
     "start_time": "2020-08-25T13:37:30.319567Z"
    }
   },
   "outputs": [
    {
     "data": {
      "text/plain": [
       "(3, 224, 224)"
      ]
     },
     "execution_count": 14,
     "metadata": {},
     "output_type": "execute_result"
    }
   ],
   "source": [
    "train[50][0].numpy().shape"
   ]
  },
  {
   "cell_type": "markdown",
   "metadata": {},
   "source": [
    "- number of RGB channels X width X height"
   ]
  },
  {
   "cell_type": "code",
   "execution_count": 15,
   "metadata": {
    "ExecuteTime": {
     "end_time": "2020-08-25T13:37:30.385396Z",
     "start_time": "2020-08-25T13:37:30.373422Z"
    }
   },
   "outputs": [
    {
     "data": {
      "text/plain": [
       "(224, 224, 3)"
      ]
     },
     "execution_count": 15,
     "metadata": {},
     "output_type": "execute_result"
    }
   ],
   "source": [
    "train[50][0].numpy().transpose((1,2,0)).shape"
   ]
  },
  {
   "cell_type": "markdown",
   "metadata": {},
   "source": [
    "- 14~15: Code for explaining how does *transpose* work"
   ]
  },
  {
   "cell_type": "code",
   "execution_count": 16,
   "metadata": {
    "ExecuteTime": {
     "end_time": "2020-08-25T13:37:30.638713Z",
     "start_time": "2020-08-25T13:37:30.388382Z"
    }
   },
   "outputs": [
    {
     "data": {
      "image/png": "[encoded data removed]",
      "text/plain": [
       "<Figure size 432x288 with 1 Axes>"
      ]
     },
     "metadata": {
      "needs_background": "light"
     },
     "output_type": "display_data"
    }
   ],
   "source": [
    "imshow(train[50][0])"
   ]
  },
  {
   "cell_type": "code",
   "execution_count": 17,
   "metadata": {
    "ExecuteTime": {
     "end_time": "2020-08-25T13:37:30.644697Z",
     "start_time": "2020-08-25T13:37:30.640708Z"
    }
   },
   "outputs": [],
   "source": [
    "train_data_gen = torch.utils.data.DataLoader(train, batch_size=16, shuffle=True, num_workers=3)\n",
    "valid_data_gen = torch.utils.data.DataLoader(valid, batch_size=16, shuffle=True, num_workers=3)"
   ]
  },
  {
   "cell_type": "markdown",
   "metadata": {},
   "source": [
    "- num_workers: responsible for parallelization\n",
    " - generally assigned smaller value than the number of cores available in the machine\n",
    " - but bigger value does not always guarantee better result"
   ]
  },
  {
   "cell_type": "markdown",
   "metadata": {},
   "source": [
    "## Using iglob"
   ]
  },
  {
   "cell_type": "code",
   "execution_count": null,
   "metadata": {
    "ExecuteTime": {
     "end_time": "2020-08-25T08:45:42.519653Z",
     "start_time": "2020-08-25T08:45:42.511667Z"
    }
   },
   "outputs": [],
   "source": [
    "from glob import iglob\n",
    "\n",
    "gen = iglob(os.path.join(path,'*/*.jpg'))\n",
    "it = iter(gen)\n",
    "it"
   ]
  },
  {
   "cell_type": "code",
   "execution_count": null,
   "metadata": {
    "ExecuteTime": {
     "end_time": "2020-08-25T08:45:44.153798Z",
     "start_time": "2020-08-25T08:45:44.149781Z"
    }
   },
   "outputs": [],
   "source": [
    "no_of_images = 25000"
   ]
  },
  {
   "cell_type": "code",
   "execution_count": null,
   "metadata": {
    "ExecuteTime": {
     "end_time": "2020-08-25T08:45:45.164455Z",
     "start_time": "2020-08-25T08:45:45.156476Z"
    }
   },
   "outputs": [],
   "source": [
    "os.mkdir(os.path.join(path,'train'))\n",
    "os.mkdir(os.path.join(path,'valid'))\n",
    "\n",
    "for t in ['train','valid']:\n",
    "    for folder in ['dog/','cat/']:\n",
    "        os.mkdir(os.path.join(path,t,folder))"
   ]
  },
  {
   "cell_type": "code",
   "execution_count": null,
   "metadata": {
    "ExecuteTime": {
     "end_time": "2020-08-25T08:45:46.204964Z",
     "start_time": "2020-08-25T08:45:46.198981Z"
    }
   },
   "outputs": [],
   "source": [
    "np.random.seed(0)\n",
    "\n",
    "shuffle = np.repeat(0, no_of_images)\n",
    "idx = np.random.permutation(no_of_images)\n",
    "\n",
    "for i in idx[:2000]:\n",
    "    shuffle[i] = 1"
   ]
  },
  {
   "cell_type": "code",
   "execution_count": null,
   "metadata": {
    "ExecuteTime": {
     "end_time": "2020-08-25T08:46:03.822998Z",
     "start_time": "2020-08-25T08:45:47.283309Z"
    }
   },
   "outputs": [],
   "source": [
    "while True:\n",
    "    try:\n",
    "        for i in range((no_of_images+1)):\n",
    "            file = next(it)\n",
    "            folder = file.split('/')[-1].split('.')[0][-3:]\n",
    "            image = file.split('/')[-1][22:]\n",
    "            if shuffle[i]==1:\n",
    "                os.rename(file, os.path.join(path,'valid',folder,image))\n",
    "            else:\n",
    "                os.rename(file, os.path.join(path,'train',folder,image))\n",
    "    except StopIteration:\n",
    "        break"
   ]
  },
  {
   "cell_type": "markdown",
   "metadata": {},
   "source": [
    "# Build vanilla CNN"
   ]
  },
  {
   "cell_type": "code",
   "execution_count": 18,
   "metadata": {
    "ExecuteTime": {
     "end_time": "2020-08-25T13:39:27.302548Z",
     "start_time": "2020-08-25T13:39:27.294571Z"
    }
   },
   "outputs": [],
   "source": [
    "import torch.nn as nn\n",
    "import torch.nn.functional as F\n",
    "\n",
    "class Net(nn.Module):\n",
    "    def __init__(self):\n",
    "        super().__init__()\n",
    "        self.conv1 = nn.Conv2d(3, 10, kernel_size=5, stride=1, padding=0)\n",
    "        self.conv2 = nn.Conv2d(10, 20, kernel_size=5, stride=1, padding=0)\n",
    "        self.conv2_drop = nn.Dropout2d()\n",
    "        self.fc1 = nn.Linear(56180,500)\n",
    "        self.fc2 = nn.Linear(500,50)\n",
    "        self.fc3 = nn.Linear(50,2)\n",
    "        \n",
    "    def forward(self,x):\n",
    "        x = F.relu(F.max_pool2d(self.conv1(x),2))\n",
    "        x = F.relu(F.max_pool2d(self.conv2_drop(self.conv2(x)),2))\n",
    "        y = x.view(x.size(0),-1)\n",
    "        return x,y"
   ]
  },
  {
   "cell_type": "code",
   "execution_count": 19,
   "metadata": {
    "ExecuteTime": {
     "end_time": "2020-08-25T13:39:32.926339Z",
     "start_time": "2020-08-25T13:39:32.919331Z"
    }
   },
   "outputs": [],
   "source": [
    "from torch.autograd import Variable\n",
    "\n",
    "def fit(epoch, model, data_loader, phase='training', volatile=False):\n",
    "    if phase == 'training':\n",
    "        model.train()\n",
    "    if phase == 'validation':\n",
    "        model.eval()\n",
    "        volatile = True\n",
    "    running_loss = 0.0\n",
    "    running_correct = 0\n",
    "    for batch_idx, (data,target) in enumerate(data_loader):\n",
    "        if is_cuda:\n",
    "            data,target = data.cuda(),target.cuda()\n",
    "        data,target = Variable(data,volatile),Variable(target)\n",
    "        if phase == 'training':\n",
    "            optimizer.zero_grad()\n",
    "        x,y = model(data)\n",
    "            \n",
    "    return x,y"
   ]
  },
  {
   "cell_type": "code",
   "execution_count": 20,
   "metadata": {
    "ExecuteTime": {
     "end_time": "2020-08-25T13:40:25.519110Z",
     "start_time": "2020-08-25T13:39:34.191592Z"
    }
   },
   "outputs": [],
   "source": [
    "import torch.optim as optim\n",
    "\n",
    "model = Net()\n",
    "if is_cuda:\n",
    "    model.cuda()\n",
    "\n",
    "optimizer = optim.SGD(model.parameters(), lr=0.01, momentum=0.5)\n",
    "x,y = fit(1, model, train_data_gen, phase='training')"
   ]
  },
  {
   "cell_type": "code",
   "execution_count": 21,
   "metadata": {
    "ExecuteTime": {
     "end_time": "2020-08-25T13:40:25.525095Z",
     "start_time": "2020-08-25T13:40:25.520107Z"
    }
   },
   "outputs": [
    {
     "data": {
      "text/plain": [
       "torch.Size([8, 20, 53, 53])"
      ]
     },
     "execution_count": 21,
     "metadata": {},
     "output_type": "execute_result"
    }
   ],
   "source": [
    "x.shape"
   ]
  },
  {
   "cell_type": "code",
   "execution_count": 22,
   "metadata": {
    "ExecuteTime": {
     "end_time": "2020-08-25T13:40:25.531078Z",
     "start_time": "2020-08-25T13:40:25.527088Z"
    }
   },
   "outputs": [
    {
     "data": {
      "text/plain": [
       "torch.Size([8, 56180])"
      ]
     },
     "execution_count": 22,
     "metadata": {},
     "output_type": "execute_result"
    }
   ],
   "source": [
    "y.shape"
   ]
  },
  {
   "cell_type": "code",
   "execution_count": 23,
   "metadata": {
    "ExecuteTime": {
     "end_time": "2020-08-25T13:40:25.536064Z",
     "start_time": "2020-08-25T13:40:25.532077Z"
    }
   },
   "outputs": [
    {
     "data": {
      "text/plain": [
       "torch.Size([56180, 8])"
      ]
     },
     "execution_count": 23,
     "metadata": {},
     "output_type": "execute_result"
    }
   ],
   "source": [
    "x.view(-1,x.shape[0]).shape"
   ]
  },
  {
   "cell_type": "markdown",
   "metadata": {},
   "source": [
    "- 18~23: Code for explaining how does *view* work"
   ]
  },
  {
   "cell_type": "code",
   "execution_count": 24,
   "metadata": {
    "ExecuteTime": {
     "end_time": "2020-08-25T13:40:25.548033Z",
     "start_time": "2020-08-25T13:40:25.537063Z"
    }
   },
   "outputs": [],
   "source": [
    "import torch.nn as nn\n",
    "import torch.nn.functional as F\n",
    "\n",
    "class Net(nn.Module):\n",
    "    def __init__(self):\n",
    "        super().__init__()\n",
    "        self.conv1 = nn.Conv2d(3, 10, kernel_size=5, stride=1, padding=0)\n",
    "        self.conv2 = nn.Conv2d(10, 20, kernel_size=5, stride=1, padding=0)\n",
    "        self.conv2_drop = nn.Dropout2d()\n",
    "        self.fc1 = nn.Linear(56180,500)\n",
    "        self.fc2 = nn.Linear(500,50)\n",
    "        self.fc3 = nn.Linear(50,2)\n",
    "        \n",
    "    def forward(self,x):\n",
    "        x = F.relu(F.max_pool2d(self.conv1(x),2))\n",
    "        x = F.relu(F.max_pool2d(self.conv2_drop(self.conv2(x)),2))\n",
    "        x = x.view(x.size(0),-1)\n",
    "        x = F.relu(self.fc1(x))\n",
    "        x = F.dropout(x, training=self.training)\n",
    "        x = F.relu(self.fc2(x))\n",
    "        x = F.dropout(x, training=self.training)\n",
    "        x = self.fc3(x)\n",
    "        return F.log_softmax(x, dim=1)"
   ]
  },
  {
   "cell_type": "markdown",
   "metadata": {},
   "source": [
    "1. convolutional layer1 - max pooling - ReLU activation\n",
    "2. convolutional layer2 - dropout - max pooling - ReLU activation\n",
    "3. view\n",
    "4. linear layer1 - ReLU activation\n",
    "5. dropout\n",
    "6. linear layer2 - ReLU activation\n",
    "7. dropout\n",
    "8. linear layer3\n",
    "9. softmax"
   ]
  },
  {
   "cell_type": "markdown",
   "metadata": {},
   "source": [
    "- Additional linear layer for more flexibility"
   ]
  },
  {
   "cell_type": "code",
   "execution_count": 25,
   "metadata": {
    "ExecuteTime": {
     "end_time": "2020-08-25T13:40:25.562994Z",
     "start_time": "2020-08-25T13:40:25.550028Z"
    }
   },
   "outputs": [],
   "source": [
    "from torch.autograd import Variable\n",
    "\n",
    "def fit(epoch, model, data_loader, phase='training', volatile=False):\n",
    "    if phase == 'training':\n",
    "        model.train()\n",
    "    if phase == 'validation':\n",
    "        model.eval()\n",
    "        volatile=True\n",
    "    running_loss = 0.0\n",
    "    running_correct = 0\n",
    "    for batch_idx,(data,target) in enumerate(data_loader):\n",
    "        if is_cuda:\n",
    "            data,target = data.cuda(),target.cuda()\n",
    "        data,target = Variable(data,volatile),Variable(target)\n",
    "        if phase == 'training':\n",
    "            optimizer.zero_grad()\n",
    "        output = model(data)\n",
    "        loss = F.nll_loss(output,target)\n",
    "        \n",
    "        running_loss += F.nll_loss(output, target, reduction='mean').data\n",
    "        preds = output.data.max(dim=1, keepdim=True)[1]\n",
    "        running_correct += preds.eq(target.data.view_as(preds)).cpu().sum()\n",
    "        if phase == 'training':\n",
    "            loss.backward()\n",
    "            optimizer.step()\n",
    "            \n",
    "    loss = running_loss/len(data_loader.dataset)\n",
    "    accuracy = 100. * running_correct.item()/len(data_loader.dataset)\n",
    "        \n",
    "    print(f'{phase} loss is {loss:{5}.{2}} and {phase} accuracy is {running_correct}/{len(data_loader.dataset)}{accuracy:{10}.{4}}')\n",
    "    return loss,accuracy"
   ]
  },
  {
   "cell_type": "code",
   "execution_count": 26,
   "metadata": {
    "ExecuteTime": {
     "end_time": "2020-08-25T14:04:59.511562Z",
     "start_time": "2020-08-25T13:40:29.012791Z"
    }
   },
   "outputs": [
    {
     "name": "stdout",
     "output_type": "stream",
     "text": [
      "training loss is 0.042 and training accuracy is 13450/23000     58.48\n",
      "validation loss is 0.039 and validation accuracy is 1298/2000      64.9\n",
      "training loss is 0.038 and training accuracy is 15341/23000      66.7\n",
      "validation loss is 0.033 and validation accuracy is 1465/2000     73.25\n",
      "training loss is 0.035 and training accuracy is 16333/23000     71.01\n",
      "validation loss is 0.031 and validation accuracy is 1535/2000     76.75\n",
      "training loss is 0.033 and training accuracy is 16961/23000     73.74\n",
      "validation loss is  0.03 and validation accuracy is 1557/2000     77.85\n",
      "training loss is  0.03 and training accuracy is 17631/23000     76.66\n",
      "validation loss is 0.029 and validation accuracy is 1551/2000     77.55\n",
      "training loss is 0.029 and training accuracy is 18091/23000     78.66\n",
      "validation loss is 0.028 and validation accuracy is 1581/2000     79.05\n",
      "training loss is 0.026 and training accuracy is 18703/23000     81.32\n",
      "validation loss is  0.03 and validation accuracy is 1556/2000      77.8\n",
      "training loss is 0.023 and training accuracy is 19179/23000     83.39\n",
      "validation loss is 0.029 and validation accuracy is 1584/2000      79.2\n",
      "training loss is 0.021 and training accuracy is 19758/23000      85.9\n",
      "validation loss is 0.028 and validation accuracy is 1586/2000      79.3\n",
      "training loss is 0.018 and training accuracy is 20215/23000     87.89\n",
      "validation loss is  0.03 and validation accuracy is 1567/2000     78.35\n",
      "training loss is 0.016 and training accuracy is 20596/23000     89.55\n",
      "validation loss is  0.03 and validation accuracy is 1555/2000     77.75\n",
      "training loss is 0.014 and training accuracy is 20986/23000     91.24\n",
      "validation loss is 0.032 and validation accuracy is 1549/2000     77.45\n",
      "training loss is 0.013 and training accuracy is 21180/23000     92.09\n",
      "validation loss is 0.033 and validation accuracy is 1548/2000      77.4\n",
      "training loss is 0.011 and training accuracy is 21411/23000     93.09\n",
      "validation loss is 0.033 and validation accuracy is 1564/2000      78.2\n",
      "training loss is  0.01 and training accuracy is 21612/23000     93.97\n",
      "validation loss is 0.032 and validation accuracy is 1569/2000     78.45\n",
      "training loss is 0.0096 and training accuracy is 21688/23000      94.3\n",
      "validation loss is 0.036 and validation accuracy is 1527/2000     76.35\n",
      "training loss is 0.0087 and training accuracy is 21802/23000     94.79\n",
      "validation loss is 0.032 and validation accuracy is 1580/2000      79.0\n",
      "training loss is 0.0082 and training accuracy is 21899/23000     95.21\n",
      "validation loss is 0.033 and validation accuracy is 1556/2000      77.8\n",
      "training loss is 0.0074 and training accuracy is 22023/23000     95.75\n",
      "validation loss is 0.035 and validation accuracy is 1557/2000     77.85\n"
     ]
    }
   ],
   "source": [
    "import torch.optim as optim\n",
    "\n",
    "model = Net()\n",
    "if is_cuda:\n",
    "    model.cuda()\n",
    "\n",
    "optimizer = optim.SGD(model.parameters(), lr=0.01, momentum=0.5)\n",
    "train_losses,train_accuracy = [],[]\n",
    "val_losses,val_accuracy = [],[]\n",
    "\n",
    "for epoch in range(1,20):\n",
    "    train_epoch_loss,train_epoch_accuracy = fit(epoch, model, train_data_gen, phase='training')\n",
    "    val_epoch_loss,val_epoch_accuracy = fit(epoch, model, valid_data_gen, phase='validation')\n",
    "    train_losses.append(train_epoch_loss)\n",
    "    train_accuracy.append(train_epoch_accuracy)\n",
    "    val_losses.append(val_epoch_loss)\n",
    "    val_accuracy.append(val_epoch_accuracy)"
   ]
  },
  {
   "cell_type": "code",
   "execution_count": 27,
   "metadata": {
    "ExecuteTime": {
     "end_time": "2020-08-25T14:05:22.167465Z",
     "start_time": "2020-08-25T14:05:21.962401Z"
    }
   },
   "outputs": [
    {
     "data": {
      "text/plain": [
       "<matplotlib.legend.Legend at 0x203aa5f64c0>"
      ]
     },
     "execution_count": 27,
     "metadata": {},
     "output_type": "execute_result"
    },
    {
     "data": {
      "image/png": "[encoded data removed]",
      "text/plain": [
       "<Figure size 432x288 with 1 Axes>"
      ]
     },
     "metadata": {
      "needs_background": "light"
     },
     "output_type": "display_data"
    }
   ],
   "source": [
    "plt.plot(range(1,len(train_losses)+1), train_losses, 'bo', label='training')\n",
    "plt.plot(range(1,len(val_losses)+1), val_losses, 'r', label='validation')\n",
    "plt.title('Loss')\n",
    "plt.legend()"
   ]
  },
  {
   "cell_type": "code",
   "execution_count": 28,
   "metadata": {
    "ExecuteTime": {
     "end_time": "2020-08-25T14:05:24.916427Z",
     "start_time": "2020-08-25T14:05:24.649596Z"
    }
   },
   "outputs": [
    {
     "data": {
      "text/plain": [
       "<matplotlib.legend.Legend at 0x2038dd51f70>"
      ]
     },
     "execution_count": 28,
     "metadata": {},
     "output_type": "execute_result"
    },
    {
     "data": {
      "image/png": "[encoded data removed]",
      "text/plain": [
       "<Figure size 432x288 with 1 Axes>"
      ]
     },
     "metadata": {
      "needs_background": "light"
     },
     "output_type": "display_data"
    }
   ],
   "source": [
    "plt.plot(range(1,len(train_accuracy)+1), train_accuracy, 'bo', label='training')\n",
    "plt.plot(range(1,len(val_accuracy)+1), val_accuracy, 'r', label='validation')\n",
    "plt.title('Accuracy')\n",
    "plt.legend()"
   ]
  },
  {
   "cell_type": "markdown",
   "metadata": {},
   "source": [
    "- Overfitting occurs after epoch 6"
   ]
  },
  {
   "cell_type": "code",
   "execution_count": 29,
   "metadata": {
    "ExecuteTime": {
     "end_time": "2020-08-25T14:06:12.190044Z",
     "start_time": "2020-08-25T14:06:11.691103Z"
    }
   },
   "outputs": [],
   "source": [
    "savePath = \"C:/Users/Yeonkang/Desktop/Deep_Learning/Image_Recognition/Vanilla_CNN/Python/Vanilla_CNN-dogsandcats.pth\"\n",
    "torch.save(model.state_dict(), savePath)"
   ]
  }
 ],
 "metadata": {
  "kernelspec": {
   "display_name": "Python 3",
   "language": "python",
   "name": "python3"
  },
  "language_info": {
   "codemirror_mode": {
    "name": "ipython",
    "version": 3
   },
   "file_extension": ".py",
   "mimetype": "text/x-python",
   "name": "python",
   "nbconvert_exporter": "python",
   "pygments_lexer": "ipython3",
   "version": "3.8.3"
  },
  "toc": {
   "base_numbering": 1,
   "nav_menu": {},
   "number_sections": true,
   "sideBar": true,
   "skip_h1_title": false,
   "title_cell": "Table of Contents",
   "title_sidebar": "Contents",
   "toc_cell": false,
   "toc_position": {
    "height": "calc(100% - 180px)",
    "left": "10px",
    "top": "150px",
    "width": "307.2px"
   },
   "toc_section_display": true,
   "toc_window_display": true
  }
 },
 "nbformat": 4,
 "nbformat_minor": 4
}
