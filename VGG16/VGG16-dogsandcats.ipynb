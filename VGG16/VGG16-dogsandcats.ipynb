{
 "cells": [
  {
   "cell_type": "code",
   "execution_count": null,
   "metadata": {
    "ExecuteTime": {
     "end_time": "2020-08-28T10:14:18.525506Z",
     "start_time": "2020-08-28T10:14:16.414061Z"
    }
   },
   "outputs": [],
   "source": [
    "import numpy as np\n",
    "import pandas as pd\n",
    "import matplotlib.pyplot as plt\n",
    "import seaborn as sns\n",
    "%matplotlib inline\n",
    "import torch"
   ]
  },
  {
   "cell_type": "code",
   "execution_count": null,
   "metadata": {
    "ExecuteTime": {
     "end_time": "2020-08-28T10:14:19.523339Z",
     "start_time": "2020-08-28T10:14:18.526413Z"
    }
   },
   "outputs": [],
   "source": [
    "is_cuda = False\n",
    "if torch.cuda.is_available():\n",
    "    is_cuda = True"
   ]
  },
  {
   "cell_type": "markdown",
   "metadata": {},
   "source": [
    "# Load data"
   ]
  },
  {
   "cell_type": "code",
   "execution_count": null,
   "metadata": {
    "ExecuteTime": {
     "end_time": "2020-08-28T10:14:20.320303Z",
     "start_time": "2020-08-28T10:14:19.525335Z"
    }
   },
   "outputs": [],
   "source": [
    "from torchvision import transforms\n",
    "from torchvision.datasets import ImageFolder\n",
    "\n",
    "simple_transform = transforms.Compose([transforms.Resize((224,224)),\n",
    "                                      transforms.ToTensor(),\n",
    "                                      transforms.Normalize([0.485,0.456,0.406],[0.229,0.224,0.225])])\n",
    "train = ImageFolder('C:/Users/Yeonkang/Desktop/Deep_Learning/Image_Recognition/Vanilla_CNN/Python/data/dogsandcats/trainandvalid/train', simple_transform)\n",
    "valid = ImageFolder('C:/Users/Yeonkang/Desktop/Deep_Learning/Image_Recognition/Vanilla_CNN/Python/data/dogsandcats/trainandvalid/valid', simple_transform)"
   ]
  },
  {
   "cell_type": "code",
   "execution_count": null,
   "metadata": {
    "ExecuteTime": {
     "end_time": "2020-08-28T10:14:31.563675Z",
     "start_time": "2020-08-28T10:14:31.559688Z"
    }
   },
   "outputs": [],
   "source": [
    "train_data_gen = torch.utils.data.DataLoader(train, batch_size=16, shuffle=True, num_workers=3)\n",
    "valid_data_gen = torch.utils.data.DataLoader(valid, batch_size=16, shuffle=True, num_workers=3)"
   ]
  },
  {
   "cell_type": "markdown",
   "metadata": {},
   "source": [
    "# Adjust VGG16"
   ]
  },
  {
   "cell_type": "markdown",
   "metadata": {},
   "source": [
    "## Change *out_features* of the last linear layer"
   ]
  },
  {
   "cell_type": "code",
   "execution_count": null,
   "metadata": {
    "ExecuteTime": {
     "end_time": "2020-08-28T10:14:37.851032Z",
     "start_time": "2020-08-28T10:14:36.661694Z"
    }
   },
   "outputs": [],
   "source": [
    "from torchvision import models\n",
    "vgg = models.vgg16(pretrained=True)"
   ]
  },
  {
   "cell_type": "code",
   "execution_count": null,
   "metadata": {
    "ExecuteTime": {
     "end_time": "2020-08-28T10:14:37.860009Z",
     "start_time": "2020-08-28T10:14:37.853028Z"
    }
   },
   "outputs": [],
   "source": [
    "vgg"
   ]
  },
  {
   "cell_type": "code",
   "execution_count": null,
   "metadata": {
    "ExecuteTime": {
     "end_time": "2020-08-28T09:29:26.033317Z",
     "start_time": "2020-08-28T09:29:26.028330Z"
    }
   },
   "outputs": [],
   "source": [
    "for param in vgg.features.parameters():\n",
    "    param.requires_grad = False\n",
    "    \n",
    "vgg.classifier[6].out_features = 2"
   ]
  },
  {
   "cell_type": "code",
   "execution_count": null,
   "metadata": {
    "ExecuteTime": {
     "end_time": "2020-08-28T09:29:26.216826Z",
     "start_time": "2020-08-28T09:29:26.206854Z"
    }
   },
   "outputs": [],
   "source": [
    "from torch.autograd import Variable\n",
    "import torch.nn.functional as F\n",
    "\n",
    "def fit(epoch, model, data_loader, phase='training', volatile=False):\n",
    "    if phase == 'training':\n",
    "        model.train()\n",
    "    if phase == 'validation':\n",
    "        model.eval()\n",
    "        volatile=True\n",
    "    running_loss = 0.0\n",
    "    running_correct = 0\n",
    "    for batch_idx , (data,target) in enumerate(data_loader):\n",
    "        if is_cuda:\n",
    "            data,target = data.cuda(),target.cuda()\n",
    "        data, target = Variable(data,volatile),Variable(target)\n",
    "        if phase == 'training':\n",
    "            optimizer.zero_grad()\n",
    "        output = model(data)\n",
    "        loss = F.cross_entropy(output,target)\n",
    "        \n",
    "        running_loss += F.cross_entropy(output, target, reduction='mean').data\n",
    "        preds = output.data.max(dim=1,keepdim=True)[1]\n",
    "        running_correct += preds.eq(target.data.view_as(preds)).cpu().sum()\n",
    "        if phase == 'training':\n",
    "            loss.backward()\n",
    "            optimizer.step()\n",
    "    \n",
    "    loss = running_loss.item()/len(data_loader.dataset)\n",
    "    accuracy = 100. * running_correct.item()/len(data_loader.dataset)\n",
    "    \n",
    "    print(f'{phase} loss is {loss:{5}.{2}} and {phase} accuracy is {running_correct}/{len(data_loader.dataset)}{accuracy:{10}.{4}}')\n",
    "    return loss,accuracy"
   ]
  },
  {
   "cell_type": "code",
   "execution_count": null,
   "metadata": {
    "ExecuteTime": {
     "end_time": "2020-08-27T12:25:30.413764Z",
     "start_time": "2020-08-27T12:20:04.962205Z"
    }
   },
   "outputs": [],
   "source": [
    "import torch.optim as optim\n",
    "\n",
    "vgg = vgg.cuda()\n",
    "\n",
    "optimizer = optim.SGD(vgg.classifier.parameters(), lr=0.0001, momentum=0.5)\n",
    "train_losses,train_accuracy = [],[]\n",
    "val_losses,val_accuracy = [],[]\n",
    "\n",
    "for epoch in range(1,10):\n",
    "    train_epoch_loss,train_epoch_accuracy = fit(epoch, vgg, train_data_gen, phase='training')\n",
    "    val_epoch_loss,val_epoch_accuracy = fit(epoch, vgg, valid_data_gen, phase='validation')\n",
    "    train_losses.append(train_epoch_loss)\n",
    "    train_accuracy.append(train_epoch_accuracy)\n",
    "    val_losses.append(val_epoch_loss)\n",
    "    val_accuracy.append(val_epoch_accuracy)"
   ]
  },
  {
   "cell_type": "code",
   "execution_count": null,
   "metadata": {},
   "outputs": [],
   "source": [
    "plt.plot(range(1,len(train_losses)+1),train_losses, 'bo', label='train')\n",
    "plt.plot(range(1,len(val_losses)+1),val_losses, 'r', label='validation')\n",
    "plt.title('Loss')\n",
    "plt.legend()"
   ]
  },
  {
   "cell_type": "code",
   "execution_count": null,
   "metadata": {},
   "outputs": [],
   "source": [
    "plt.plot(range(1,len(train_accuracy)+1),train_accuracy, 'bo', label='train')\n",
    "plt.plot(range(1,len(val_accuracy)+1),val_accuracy, 'r', label='validation')\n",
    "plt.title('Accuracy')\n",
    "plt.legend()"
   ]
  },
  {
   "cell_type": "markdown",
   "metadata": {},
   "source": [
    "## Change *p* of dropout"
   ]
  },
  {
   "cell_type": "code",
   "execution_count": null,
   "metadata": {
    "ExecuteTime": {
     "end_time": "2020-08-28T07:22:42.206289Z",
     "start_time": "2020-08-28T07:22:42.202271Z"
    }
   },
   "outputs": [],
   "source": [
    "import torch.nn as nn\n",
    "\n",
    "for layer in vgg.classifier.children():\n",
    "    if (type(layer)==nn.Dropout):\n",
    "        layer.p = 0.2"
   ]
  },
  {
   "cell_type": "code",
   "execution_count": null,
   "metadata": {
    "ExecuteTime": {
     "end_time": "2020-08-28T07:21:12.755637Z",
     "start_time": "2020-08-28T07:15:43.076129Z"
    }
   },
   "outputs": [],
   "source": [
    "train_losses,train_accuracy = [],[]\n",
    "val_losses,val_accuracy = [],[]\n",
    "\n",
    "for epoch in range(1,3):\n",
    "    train_epoch_loss,train_epoch_accuracy = fit(epoch, vgg, train_data_gen, phase='training')\n",
    "    val_epoch_loss,val_epoch_accuracy = fit(epoch, vgg, valid_data_gen, phase='validation')\n",
    "    train_losses.append(train_epoch_loss)\n",
    "    train_accuracy.append(train_epoch_accuracy)\n",
    "    val_losses.append(val_epoch_loss)\n",
    "    val_accuracy.append(val_epoch_accuracy)"
   ]
  },
  {
   "cell_type": "markdown",
   "metadata": {},
   "source": [
    "## Augument data"
   ]
  },
  {
   "cell_type": "code",
   "execution_count": null,
   "metadata": {
    "ExecuteTime": {
     "end_time": "2020-08-28T10:15:01.227615Z",
     "start_time": "2020-08-28T10:15:01.222629Z"
    }
   },
   "outputs": [],
   "source": [
    "def imshow(inp):\n",
    "    inp = inp.numpy().transpose((1,2,0))\n",
    "    mean,std = np.array([0.485,0.456,0.406]),np.array([0.229,0.224,0.225])\n",
    "    inp = std * inp + mean\n",
    "    inp = np.clip(inp,0,1)\n",
    "    plt.imshow(inp)"
   ]
  },
  {
   "cell_type": "code",
   "execution_count": null,
   "metadata": {
    "ExecuteTime": {
     "end_time": "2020-08-28T07:30:53.006294Z",
     "start_time": "2020-08-28T07:30:52.797883Z"
    }
   },
   "outputs": [],
   "source": [
    "imshow(valid[50][0]) #original data"
   ]
  },
  {
   "cell_type": "code",
   "execution_count": null,
   "metadata": {
    "ExecuteTime": {
     "end_time": "2020-08-28T07:45:37.678630Z",
     "start_time": "2020-08-28T07:45:37.466200Z"
    }
   },
   "outputs": [],
   "source": [
    "sample_transform1 = transforms.Compose([transforms.Resize((224,224)), transforms.RandomHorizontalFlip(p=1), transforms.ToTensor(),\n",
    "                                        transforms.Normalize([0.485,0.456,0.406],[0.229,0.224,0.225])])\n",
    "valid = ImageFolder('C:/Users/Yeonkang/Desktop/Deep_Learning/Image_Recognition/Vanilla_CNN/Python/data/dogsandcats/trainandvalid/valid', sample_transform1)\n",
    "imshow(valid[50][0]) #horizontally flipped image"
   ]
  },
  {
   "cell_type": "code",
   "execution_count": null,
   "metadata": {
    "ExecuteTime": {
     "end_time": "2020-08-28T07:46:54.909141Z",
     "start_time": "2020-08-28T07:46:54.706686Z"
    }
   },
   "outputs": [],
   "source": [
    "sample_transform2 = transforms.Compose([transforms.Resize((224,224)), transforms.RandomRotation(180), transforms.ToTensor(),\n",
    "                                        transforms.Normalize([0.485,0.456,0.406],[0.229,0.224,0.225])])\n",
    "valid = ImageFolder('C:/Users/Yeonkang/Desktop/Deep_Learning/Image_Recognition/Vanilla_CNN/Python/data/dogsandcats/trainandvalid/valid', sample_transform2)\n",
    "imshow(valid[50][0]) #image rotated by 180 degree"
   ]
  },
  {
   "cell_type": "markdown",
   "metadata": {},
   "source": [
    "- Code for explaining how do *RandomHorizontalFlip* and *RandomRotation* work"
   ]
  },
  {
   "cell_type": "code",
   "execution_count": null,
   "metadata": {
    "ExecuteTime": {
     "end_time": "2020-08-28T07:57:43.791732Z",
     "start_time": "2020-08-28T07:57:43.629122Z"
    }
   },
   "outputs": [],
   "source": [
    "train_transform = transforms.Compose([transforms.Resize((224,224)), transforms.RandomHorizontalFlip(),\n",
    "                                     transforms.RandomRotation(0.2), transforms.ToTensor(),\n",
    "                                     transforms.Normalize([0.485,0.456,0.406],[0.229,0.224,0.225])])\n",
    "train = ImageFolder('C:/Users/Yeonkang/Desktop/Deep_Learning/Image_Recognition/Vanilla_CNN/Python/data/dogsandcats/trainandvalid/train', train_transform)\n",
    "valid = ImageFolder('C:/Users/Yeonkang/Desktop/Deep_Learning/Image_Recognition/Vanilla_CNN/Python/data/dogsandcats/trainandvalid/valid', train_transform)"
   ]
  },
  {
   "cell_type": "code",
   "execution_count": null,
   "metadata": {
    "ExecuteTime": {
     "end_time": "2020-08-28T07:57:43.909363Z",
     "start_time": "2020-08-28T07:57:43.901358Z"
    }
   },
   "outputs": [],
   "source": [
    "train_data_gen = torch.utils.data.DataLoader(train, batch_size=16, shuffle=True, num_workers=3)\n",
    "valid_data_gen = torch.utils.data.DataLoader(valid, batch_size=16, shuffle=True, num_workers=3)"
   ]
  },
  {
   "cell_type": "code",
   "execution_count": null,
   "metadata": {
    "ExecuteTime": {
     "end_time": "2020-08-28T08:03:14.665844Z",
     "start_time": "2020-08-28T07:57:46.741805Z"
    }
   },
   "outputs": [],
   "source": [
    "train_losses,train_accuracy = [],[]\n",
    "val_losses,val_accuracy = [],[]\n",
    "\n",
    "for epoch in range(1,3):\n",
    "    train_epoch_loss,train_epoch_accuracy = fit(epoch, vgg, train_data_gen, phase='training')\n",
    "    val_epoch_loss,val_epoch_accuracy = fit(epoch, vgg, valid_data_gen, phase='validation')\n",
    "    train_losses.append(train_epoch_loss)\n",
    "    train_accuracy.append(train_epoch_accuracy)\n",
    "    val_losses.append(val_epoch_loss)\n",
    "    val_accuracy.append(val_epoch_accuracy)"
   ]
  },
  {
   "cell_type": "markdown",
   "metadata": {},
   "source": [
    "## Calculate pre-convoluted features"
   ]
  },
  {
   "cell_type": "code",
   "execution_count": null,
   "metadata": {
    "ExecuteTime": {
     "end_time": "2020-08-28T09:29:39.904484Z",
     "start_time": "2020-08-28T09:29:35.024011Z"
    }
   },
   "outputs": [],
   "source": [
    "vgg = models.vgg16(pretrained=True)\n",
    "vgg = vgg.cuda()"
   ]
  },
  {
   "cell_type": "code",
   "execution_count": null,
   "metadata": {
    "ExecuteTime": {
     "end_time": "2020-08-28T09:29:41.251393Z",
     "start_time": "2020-08-28T09:29:41.247404Z"
    }
   },
   "outputs": [],
   "source": [
    "features = vgg.features\n",
    "for param in features.parameters(): \n",
    "    param.requires_grad = False"
   ]
  },
  {
   "cell_type": "code",
   "execution_count": null,
   "metadata": {
    "ExecuteTime": {
     "end_time": "2020-08-28T09:29:44.041552Z",
     "start_time": "2020-08-28T09:29:44.035536Z"
    }
   },
   "outputs": [],
   "source": [
    "train_data_gen = torch.utils.data.DataLoader(train, batch_size=16, num_workers=3, shuffle=False)\n",
    "valid_data_gen = torch.utils.data.DataLoader(valid, batch_size=16, num_workers=3, shuffle=False)"
   ]
  },
  {
   "cell_type": "code",
   "execution_count": null,
   "metadata": {
    "ExecuteTime": {
     "end_time": "2020-08-28T09:29:45.548518Z",
     "start_time": "2020-08-28T09:29:45.542504Z"
    }
   },
   "outputs": [],
   "source": [
    "def preconvfeat(dataset, model):\n",
    "    conv_features = []\n",
    "    labels_list = []\n",
    "    for data in dataset:\n",
    "        inputs,labels = data\n",
    "        if is_cuda:\n",
    "            inputs, labels = inputs.cuda(),labels.cuda()       \n",
    "        inputs, labels = Variable(inputs),Variable(labels)\n",
    "        output = model(inputs)\n",
    "        conv_features.extend(output.data.cpu().numpy())\n",
    "        labels_list.extend(labels.data.cpu().numpy())\n",
    "    conv_features = np.concatenate([[feat] for feat in conv_features])\n",
    "    \n",
    "    return (conv_features,labels_list)"
   ]
  },
  {
   "cell_type": "code",
   "execution_count": null,
   "metadata": {
    "ExecuteTime": {
     "end_time": "2020-08-28T09:33:59.969009Z",
     "start_time": "2020-08-28T09:29:47.331342Z"
    }
   },
   "outputs": [],
   "source": [
    "conv_feat_train,labels_train= preconvfeat(train_data_gen, features)\n",
    "conv_feat_val,labels_val= preconvfeat(valid_data_gen, features)"
   ]
  },
  {
   "cell_type": "code",
   "execution_count": null,
   "metadata": {
    "ExecuteTime": {
     "end_time": "2020-08-28T09:34:07.508684Z",
     "start_time": "2020-08-28T09:34:07.489735Z"
    }
   },
   "outputs": [],
   "source": [
    "print(conv_feat_train.shape)\n",
    "print(np.array(labels_train).shape)"
   ]
  },
  {
   "cell_type": "code",
   "execution_count": null,
   "metadata": {
    "ExecuteTime": {
     "end_time": "2020-08-28T09:34:09.348381Z",
     "start_time": "2020-08-28T09:34:09.340371Z"
    }
   },
   "outputs": [],
   "source": [
    "from torch.utils.data import Dataset\n",
    "\n",
    "class My_dataset(Dataset):\n",
    "    def __init__(self,feat,labels):\n",
    "        self.conv_feat = feat\n",
    "        self.labels = labels\n",
    "    \n",
    "    def __len__(self):\n",
    "        return len(self.conv_feat)\n",
    "    \n",
    "    def __getitem__(self,idx):\n",
    "        return self.conv_feat[idx],self.labels[idx]"
   ]
  },
  {
   "cell_type": "code",
   "execution_count": null,
   "metadata": {
    "ExecuteTime": {
     "end_time": "2020-08-28T09:34:10.727374Z",
     "start_time": "2020-08-28T09:34:10.722373Z"
    }
   },
   "outputs": [],
   "source": [
    "train_feat_dataset = My_dataset(conv_feat_train, labels_train)\n",
    "val_feat_dataset = My_dataset(conv_feat_val, labels_val)"
   ]
  },
  {
   "cell_type": "code",
   "execution_count": null,
   "metadata": {
    "ExecuteTime": {
     "end_time": "2020-08-28T09:34:12.781595Z",
     "start_time": "2020-08-28T09:34:12.774582Z"
    }
   },
   "outputs": [],
   "source": [
    "train_feat_gen = torch.utils.data.DataLoader(train_feat_dataset, batch_size=16, shuffle=True)\n",
    "val_feat_gen = torch.utils.data.DataLoader(val_feat_dataset, batch_size=16, shuffle=True)"
   ]
  },
  {
   "cell_type": "code",
   "execution_count": null,
   "metadata": {
    "ExecuteTime": {
     "end_time": "2020-08-28T09:36:35.228257Z",
     "start_time": "2020-08-28T09:36:35.213300Z"
    }
   },
   "outputs": [],
   "source": [
    "def fit_numpy(epoch, model, data_loader, phase='training', volatile=False):\n",
    "    if phase == 'training':\n",
    "        model.train()\n",
    "    if phase == 'validation':\n",
    "        model.eval()\n",
    "        volatile=True\n",
    "    running_loss = 0.0\n",
    "    running_correct = 0\n",
    "    for batch_idx , (data,target) in enumerate(data_loader):\n",
    "        if is_cuda:\n",
    "            data,target = data.cuda(),target.cuda()\n",
    "        data , target = Variable(data,volatile),Variable(target)\n",
    "        if phase == 'training':\n",
    "            optimizer.zero_grad()\n",
    "        data = data.view(data.size(0), -1)\n",
    "        output = model(data)\n",
    "        loss = F.cross_entropy(output,target)\n",
    "        \n",
    "        running_loss += F.cross_entropy(output, target, reduction='sum').data\n",
    "        preds = output.data.max(dim=1, keepdim=True)[1]\n",
    "        running_correct += preds.eq(target.data.view_as(preds)).cpu().sum()\n",
    "        if phase == 'training':\n",
    "            loss.backward()\n",
    "            optimizer.step()\n",
    "    \n",
    "    loss = running_loss/len(data_loader.dataset)\n",
    "    accuracy = 100. * running_correct.item()/len(data_loader.dataset)\n",
    "    \n",
    "    print(f'{phase} loss is {loss:{5}.{2}} and {phase} accuracy is {running_correct}/{len(data_loader.dataset)}{accuracy:{10}.{4}}')\n",
    "    return loss,accuracy"
   ]
  },
  {
   "cell_type": "code",
   "execution_count": null,
   "metadata": {
    "ExecuteTime": {
     "end_time": "2020-08-28T09:40:30.138382Z",
     "start_time": "2020-08-28T09:36:36.401725Z"
    }
   },
   "outputs": [],
   "source": [
    "train_losses,train_accuracy = [],[]\n",
    "val_losses,val_accuracy = [],[]\n",
    "for epoch in range(1,20):\n",
    "    epoch_loss,epoch_accuracy = fit_numpy(epoch, vgg.classifier, train_feat_gen, phase='training')\n",
    "    val_epoch_loss ,val_epoch_accuracy = fit_numpy(epoch, vgg.classifier, val_feat_gen, phase='validation')\n",
    "    train_losses.append(epoch_loss)\n",
    "    train_accuracy.append(epoch_accuracy)\n",
    "    val_losses.append(val_epoch_loss)\n",
    "    val_accuracy.append(val_epoch_accuracy)"
   ]
  },
  {
   "cell_type": "code",
   "execution_count": null,
   "metadata": {},
   "outputs": [],
   "source": [
    "plt.plot(range(1,len(train_losses)+1),train_losses, 'bo', label='train')\n",
    "plt.plot(range(1,len(val_losses)+1),val_losses, 'r', label='validation')\n",
    "plt.title('Loss')\n",
    "plt.legend()"
   ]
  },
  {
   "cell_type": "code",
   "execution_count": null,
   "metadata": {},
   "outputs": [],
   "source": [
    "plt.plot(range(1,len(train_accuracy)+1),train_accuracy, 'bo', label='train')\n",
    "plt.plot(range(1,len(val_accuracy)+1),val_accuracy, 'r', label='validation')\n",
    "plt.title('Accuracy')\n",
    "plt.legend()"
   ]
  },
  {
   "cell_type": "markdown",
   "metadata": {},
   "source": [
    "# Visualize outputs from intermediate layers"
   ]
  },
  {
   "cell_type": "code",
   "execution_count": null,
   "metadata": {
    "ExecuteTime": {
     "end_time": "2020-08-28T10:18:43.705334Z",
     "start_time": "2020-08-28T10:18:41.069702Z"
    }
   },
   "outputs": [],
   "source": [
    "train_data_gen = torch.utils.data.DataLoader(train,batch_size=16, num_workers=3, shuffle=False)\n",
    "img,label = next(iter(train_data_gen))"
   ]
  },
  {
   "cell_type": "code",
   "execution_count": null,
   "metadata": {
    "ExecuteTime": {
     "end_time": "2020-08-28T10:18:43.893863Z",
     "start_time": "2020-08-28T10:18:43.706331Z"
    }
   },
   "outputs": [],
   "source": [
    "imshow(img[5])"
   ]
  },
  {
   "cell_type": "code",
   "execution_count": null,
   "metadata": {
    "ExecuteTime": {
     "end_time": "2020-08-28T10:18:43.898818Z",
     "start_time": "2020-08-28T10:18:43.894829Z"
    }
   },
   "outputs": [],
   "source": [
    "img = img[5][None]"
   ]
  },
  {
   "cell_type": "code",
   "execution_count": null,
   "metadata": {
    "ExecuteTime": {
     "end_time": "2020-08-28T10:18:45.328501Z",
     "start_time": "2020-08-28T10:18:43.899815Z"
    }
   },
   "outputs": [],
   "source": [
    "vgg = models.vgg16(pretrained=True).cuda()"
   ]
  },
  {
   "cell_type": "code",
   "execution_count": null,
   "metadata": {
    "ExecuteTime": {
     "end_time": "2020-08-28T10:18:45.332490Z",
     "start_time": "2020-08-28T10:18:45.329499Z"
    }
   },
   "outputs": [],
   "source": [
    "from torch.autograd import Variable\n",
    "import torch.nn.functional as F"
   ]
  },
  {
   "cell_type": "code",
   "execution_count": null,
   "metadata": {
    "ExecuteTime": {
     "end_time": "2020-08-28T10:20:46.910487Z",
     "start_time": "2020-08-28T10:20:46.905467Z"
    }
   },
   "outputs": [],
   "source": [
    "class LayerActivations():\n",
    "    features=None\n",
    "    \n",
    "    def __init__(self,model,layer_num):\n",
    "        self.hook = model[layer_num].register_forward_hook(self.hook_fn)\n",
    "    \n",
    "    def hook_fn(self,module,input,output):\n",
    "        self.features = output.cpu().data.numpy()\n",
    "    \n",
    "    def remove(self):\n",
    "        self.hook.remove()"
   ]
  },
  {
   "cell_type": "code",
   "execution_count": null,
   "metadata": {},
   "outputs": [],
   "source": [
    "conv_out = LayerActivations(vgg.features,0)\n",
    "o = vgg(Variable(img.cuda()))\n",
    "conv_out.remove()\n",
    "act = conv_out.features"
   ]
  },
  {
   "cell_type": "code",
   "execution_count": null,
   "metadata": {
    "ExecuteTime": {
     "end_time": "2020-08-28T10:19:07.700108Z",
     "start_time": "2020-08-28T10:19:06.231009Z"
    }
   },
   "outputs": [],
   "source": [
    "fig = plt.figure(figsize=(20,50))\n",
    "fig.subplots_adjust(left=0, right=1, bottom=0, top=0.8, hspace=0, wspace=0.2)\n",
    "for i in range(30):\n",
    "    ax = fig.add_subplot(12, 5, i+1, xticks=[], yticks=[])\n",
    "    ax.imshow(act[0][i])"
   ]
  },
  {
   "cell_type": "markdown",
   "metadata": {},
   "source": [
    "- Output of the first convolutional layer"
   ]
  },
  {
   "cell_type": "code",
   "execution_count": null,
   "metadata": {
    "ExecuteTime": {
     "end_time": "2020-08-28T10:22:50.778741Z",
     "start_time": "2020-08-28T10:22:50.751784Z"
    }
   },
   "outputs": [],
   "source": [
    "conv_out = LayerActivations(vgg.features,26)\n",
    "o = vgg(Variable(img.cuda()))\n",
    "conv_out.remove()\n",
    "act = conv_out.features"
   ]
  },
  {
   "cell_type": "code",
   "execution_count": null,
   "metadata": {
    "ExecuteTime": {
     "end_time": "2020-08-28T10:23:00.080210Z",
     "start_time": "2020-08-28T10:22:59.114772Z"
    }
   },
   "outputs": [],
   "source": [
    "fig = plt.figure(figsize=(20,50))\n",
    "fig.subplots_adjust(left=0, right=1, bottom=0, top=0.8, hspace=0, wspace=0.2)\n",
    "for i in range(30):\n",
    "    ax = fig.add_subplot(12, 5, i+1, xticks=[], yticks=[])\n",
    "    ax.imshow(act[0][i])"
   ]
  },
  {
   "cell_type": "code",
   "execution_count": null,
   "metadata": {
    "ExecuteTime": {
     "end_time": "2020-08-28T10:38:43.343701Z",
     "start_time": "2020-08-28T10:38:41.800812Z"
    }
   },
   "outputs": [],
   "source": [
    "vgg = models.vgg16(pretrained=True).cuda()"
   ]
  },
  {
   "cell_type": "code",
   "execution_count": null,
   "metadata": {
    "ExecuteTime": {
     "end_time": "2020-08-28T10:38:47.334302Z",
     "start_time": "2020-08-28T10:38:47.327322Z"
    }
   },
   "outputs": [],
   "source": [
    "vgg.state_dict().keys()"
   ]
  },
  {
   "cell_type": "code",
   "execution_count": null,
   "metadata": {
    "ExecuteTime": {
     "end_time": "2020-08-28T10:38:58.482533Z",
     "start_time": "2020-08-28T10:38:58.478545Z"
    }
   },
   "outputs": [],
   "source": [
    "cnn_weights = vgg.state_dict()['features.0.weight'].cpu()"
   ]
  },
  {
   "cell_type": "code",
   "execution_count": null,
   "metadata": {
    "ExecuteTime": {
     "end_time": "2020-08-28T10:42:04.760829Z",
     "start_time": "2020-08-28T10:42:04.053757Z"
    }
   },
   "outputs": [],
   "source": [
    "fig = plt.figure(figsize=(30,30))\n",
    "fig.subplots_adjust(left=0, right=1, bottom=0, top=0.8, hspace=0, wspace=0.2)\n",
    "for i in range(30):\n",
    "    ax = fig.add_subplot(12, 6, i+1, xticks=[], yticks=[])\n",
    "    imshow(cnn_weights[i])"
   ]
  }
 ],
 "metadata": {
  "kernelspec": {
   "display_name": "Python 3",
   "language": "python",
   "name": "python3"
  },
  "language_info": {
   "codemirror_mode": {
    "name": "ipython",
    "version": 3
   },
   "file_extension": ".py",
   "mimetype": "text/x-python",
   "name": "python",
   "nbconvert_exporter": "python",
   "pygments_lexer": "ipython3",
   "version": "3.8.3"
  },
  "toc": {
   "base_numbering": 1,
   "nav_menu": {},
   "number_sections": true,
   "sideBar": true,
   "skip_h1_title": false,
   "title_cell": "Table of Contents",
   "title_sidebar": "Contents",
   "toc_cell": false,
   "toc_position": {},
   "toc_section_display": true,
   "toc_window_display": false
  }
 },
 "nbformat": 4,
 "nbformat_minor": 4
}
